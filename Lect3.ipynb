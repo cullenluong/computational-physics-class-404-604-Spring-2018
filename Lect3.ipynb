{
 "cells": [
  {
   "cell_type": "markdown",
   "metadata": {},
   "source": [
    "# Physics 404/604\n",
    "\n",
    "## Computational Physics (Spring 2018)\n",
    "\n",
    "## BPB-250, Mon./Wed. 2:30-3:45 pm\n",
    "\n",
    "| Instructor | Prof. Zhaohuan Zhu                 |\n",
    "| ---------- | :--------------------------------- |\n",
    "| Email      | zhaohuan.zhu@unlv.edu              |\n",
    "| Website    | http://www.physics.unlv.edu/~zhzhu |\n",
    "| Office     | BPB 245                            |\n",
    "\n",
    "\n"
   ]
  },
  {
   "cell_type": "markdown",
   "metadata": {},
   "source": [
    "# 2. How to represent numbers?\n",
    "\n"
   ]
  },
  {
   "cell_type": "markdown",
   "metadata": {},
   "source": [
    "## 2.1 Integers:   \n",
    "\n",
    " [$-2^{n-1}$, $2^{n-1}$] where n is the number of bits used to store the signed integer\n",
    "      \n",
    "      Note that in python2 integer is either 4 bytes or 8 bytes. In python 3, integer can be any length as long as the memory allows. On the otherhand, some python libraries (e.g. numpy) donot support these very long integers. Remember only 19 digets integer"
   ]
  },
  {
   "cell_type": "code",
   "execution_count": 65,
   "metadata": {},
   "outputs": [
    {
     "name": "stdout",
     "output_type": "stream",
     "text": [
      "int64\n",
      "[9223372036854775807] 0b111111111111111111111111111111111111111111111111111111111111111\n",
      "[-9223372036854775808] -0b1000000000000000000000000000000000000000000000000000000000000000\n"
     ]
    },
    {
     "name": "stderr",
     "output_type": "stream",
     "text": [
      "/Users/zhzhu/miniconda3/lib/python3.6/site-packages/ipykernel_launcher.py:5: RuntimeWarning: overflow encountered in long_scalars\n",
      "  \"\"\"\n"
     ]
    }
   ],
   "source": [
    "import numpy as np\n",
    "a=np.array([2**63-1])\n",
    "print(a.dtype)\n",
    "print(a,bin(a[0]))\n",
    "print(a+1,bin(a[0]+1))\n",
    "    "
   ]
  },
  {
   "cell_type": "markdown",
   "metadata": {},
   "source": [
    "## 2.2 Floating point numbers:\n",
    "\n",
    "8 bytes  \n",
    "One number in the memory   \n",
    "ABBBBBBBBBBBCCCCCCCCCCCCCCCCCCCCCCCCCCCCCCCCCCCCCCCCCCCCCCCCCCCC\n",
    "\n",
    "A: sign  \n",
    "B: e  \n",
    "C: $b_{52-i}$\n",
    "i is the bit of C; the i of the leftmost C is 1; the i of the rightmost C is 52.\n",
    "\n",
    "\\begin{equation}  \n",
    "x=(-1)^{sign}(1+\\sum_{i=1}^{52} b_{52-i}2^{-i})2^{e-1023}\n",
    "\\end{equation}"
   ]
  },
  {
   "cell_type": "code",
   "execution_count": 2,
   "metadata": {},
   "outputs": [],
   "source": [
    "import random\n",
    "import numpy as np\n",
    "import struct"
   ]
  },
  {
   "cell_type": "code",
   "execution_count": 3,
   "metadata": {},
   "outputs": [],
   "source": [
    "def fextract(num):\n",
    "    return ''.join(bin(c).replace('0b', '').rjust(8, '0') for c in struct.pack('!d', num))"
   ]
  },
  {
   "cell_type": "code",
   "execution_count": 4,
   "metadata": {},
   "outputs": [
    {
     "name": "stdout",
     "output_type": "stream",
     "text": [
      "1.0000000000000000000000000000000  0 01111111111 0000000000000000000000000000000000000000000000000000\n"
     ]
    }
   ],
   "source": [
    "num=1.0\n",
    "print(\"%.31f  %s\"%(num,fextract(num)[0]+' '+fextract(num)[1:12]+' '+fextract(num)[12:]))"
   ]
  },
  {
   "cell_type": "code",
   "execution_count": 5,
   "metadata": {},
   "outputs": [
    {
     "name": "stdout",
     "output_type": "stream",
     "text": [
      "0.5000000000000000000000000000000  0 01111111110 0000000000000000000000000000000000000000000000000000\n"
     ]
    }
   ],
   "source": [
    "num=0.5\n",
    "print(\"%.31f  %s\"%(num,fextract(num)[0]+' '+fextract(num)[1:12]+' '+fextract(num)[12:]))"
   ]
  },
  {
   "cell_type": "code",
   "execution_count": 6,
   "metadata": {},
   "outputs": [
    {
     "name": "stdout",
     "output_type": "stream",
     "text": [
      "0.7500000000000000000000000000000  0 01111111110 1000000000000000000000000000000000000000000000000000\n"
     ]
    }
   ],
   "source": [
    "num=0.75\n",
    "print(\"%.31f  %s\"%(num,fextract(num)[0]+' '+fextract(num)[1:12]+' '+fextract(num)[12:]))"
   ]
  },
  {
   "cell_type": "code",
   "execution_count": 98,
   "metadata": {},
   "outputs": [
    {
     "name": "stdout",
     "output_type": "stream",
     "text": [
      "0.2000000000000000111022302462516  0 01111111100 1001100110011001100110011001100110011001100110011010\n"
     ]
    }
   ],
   "source": [
    "num=0.2\n",
    "print(\"%.31f  %s\"%(num,fextract(num)[0]+' '+fextract(num)[1:12]+' '+fextract(num)[12:]))"
   ]
  },
  {
   "cell_type": "markdown",
   "metadata": {},
   "source": [
    "Range \n",
    "\n",
    "[-$10^{308}$, -$10^{-324}$] [$10^{-324}$,10$^{308}$]"
   ]
  },
  {
   "cell_type": "code",
   "execution_count": 8,
   "metadata": {},
   "outputs": [
    {
     "name": "stdout",
     "output_type": "stream",
     "text": [
      "0.0000000000000000000e+00  0 00000000000 0000000000000000000000000000000000000000000000000000\n"
     ]
    }
   ],
   "source": [
    "num=1.e-325 #underflow sometimes is treated as 0\n",
    "print(\"%.19e  %s\"%(num,fextract(num)[0]+' '+fextract(num)[1:12]+' '+fextract(num)[12:]))"
   ]
  },
  {
   "cell_type": "code",
   "execution_count": 9,
   "metadata": {},
   "outputs": [
    {
     "name": "stdout",
     "output_type": "stream",
     "text": [
      "9.8813129168249308835e-324  0 00000000000 0000000000000000000000000000000000000000000000000010\n"
     ]
    }
   ],
   "source": [
    "num=1.e-323\n",
    "print(\"%.19e  %s\"%(num,fextract(num)[0]+' '+fextract(num)[1:12]+' '+fextract(num)[12:]))"
   ]
  },
  {
   "cell_type": "code",
   "execution_count": 113,
   "metadata": {},
   "outputs": [
    {
     "name": "stdout",
     "output_type": "stream",
     "text": [
      "inf  0 11111111111 0000000000000000000000000000000000000000000000000000\n"
     ]
    }
   ],
   "source": [
    "num=1.e309 #overflow generates infinity\n",
    "print(\"%.19e  %s\"%(num,fextract(num)[0]+' '+fextract(num)[1:12]+' '+fextract(num)[12:]))"
   ]
  },
  {
   "cell_type": "code",
   "execution_count": 127,
   "metadata": {},
   "outputs": [
    {
     "name": "stdout",
     "output_type": "stream",
     "text": [
      "1.7976931347999999853e+308  0 11111111110 1111111111111111111111111111111110110011110001011011\n"
     ]
    }
   ],
   "source": [
    "num=1.7976931348e308 #overflow generates infinity\n",
    "print(\"%.19e  %s\"%(num,fextract(num)[0]+' '+fextract(num)[1:12]+' '+fextract(num)[12:]))"
   ]
  },
  {
   "cell_type": "code",
   "execution_count": null,
   "metadata": {},
   "outputs": [],
   "source": [
    "# Write a code to determine the overflow and underflow limit to be accurate by a factor 2"
   ]
  },
  {
   "cell_type": "markdown",
   "metadata": {},
   "source": [
    "Machine Precision: "
   ]
  },
  {
   "cell_type": "code",
   "execution_count": 43,
   "metadata": {},
   "outputs": [
    {
     "name": "stdout",
     "output_type": "stream",
     "text": [
      "0.0000000000000000100000000000000  0 01111000110 0111000011101111010101000110010001101101010010010111\n"
     ]
    }
   ],
   "source": [
    "num=1.0e-17\n",
    "print(\"%.31f  %s\"%(num,fextract(num)[0]+' '+fextract(num)[1:12]+' '+fextract(num)[12:]))"
   ]
  },
  {
   "cell_type": "code",
   "execution_count": 45,
   "metadata": {},
   "outputs": [
    {
     "name": "stdout",
     "output_type": "stream",
     "text": [
      "1.0000000000000000000000000000000  0 01111111111 0000000000000000000000000000000000000000000000000000\n"
     ]
    }
   ],
   "source": [
    "num=1.0+1.0e-17\n",
    "print(\"%.31f  %s\"%(num,fextract(num)[0]+' '+fextract(num)[1:12]+' '+fextract(num)[12:]))"
   ]
  },
  {
   "cell_type": "code",
   "execution_count": 16,
   "metadata": {},
   "outputs": [
    {
     "name": "stdout",
     "output_type": "stream",
     "text": [
      "100.0999999999999943156581139191985 100.0999999999999943156581139191985\n"
     ]
    }
   ],
   "source": [
    "num1 = 100.1\n",
    "num2= 100.1+100.*1.0e-17\n",
    "print(\"%.31f %.31f\"%(num1,num2))"
   ]
  },
  {
   "cell_type": "code",
   "execution_count": 18,
   "metadata": {},
   "outputs": [],
   "source": [
    "# determine your machine's precision"
   ]
  },
  {
   "cell_type": "code",
   "execution_count": 34,
   "metadata": {},
   "outputs": [
    {
     "name": "stdout",
     "output_type": "stream",
     "text": [
      "0.1000000000000000055511151231258 0.2000000000000000111022302462516 0.3000000000000000444089209850063 0.2999999999999999888977697537484\n",
      " the relative of the difference is  2.220446049250313e-16\n"
     ]
    }
   ],
   "source": [
    "# error in operations\n",
    "\n",
    "num1 = 0.1\n",
    "num2 = 0.2\n",
    "num3 = 0.3\n",
    "print(\"%.31f %.31f %.31f %.31f\"%(num1,num2, num1+num2, num3))\n",
    "print(\" the relative of the difference is \",abs((num1+num2)/num3-1))"
   ]
  },
  {
   "cell_type": "code",
   "execution_count": 33,
   "metadata": {},
   "outputs": [
    {
     "name": "stdout",
     "output_type": "stream",
     "text": [
      "0.2000000000000999866855977415980 0.2000000000000000111022302462516 0.0000000000000999755833674953465 0.0000000000001000000000000000030\n",
      " the relative of the difference is  0.00024416632504653535\n"
     ]
    }
   ],
   "source": [
    "num1 = 0.2000000000001\n",
    "num2 = 0.2\n",
    "num3 = 0.0000000000001\n",
    "print(\"%.31f %.31f %.31f %.31f\"%(num1,num2, num1-num2, num3))\n",
    "print(\" the relative of the difference is \",abs((num1-num2)/num3-1))"
   ]
  },
  {
   "cell_type": "markdown",
   "metadata": {},
   "source": [
    "## 2.3 How to calculate sin(x): When to stop\n",
    "### 2.3.1 using built-in functions"
   ]
  },
  {
   "cell_type": "code",
   "execution_count": 209,
   "metadata": {},
   "outputs": [
    {
     "data": {
      "text/plain": [
       "-0.46460217941375737"
      ]
     },
     "execution_count": 209,
     "metadata": {},
     "output_type": "execute_result"
    }
   ],
   "source": [
    "import numpy as np\n",
    "np.sin(5.8)"
   ]
  },
  {
   "cell_type": "markdown",
   "metadata": {},
   "source": [
    "### 2.3.2 using summing series\n",
    "\\begin{equation}\n",
    "{\\rm sin} \\,x=x-\\frac{x^3}{3!}+\\frac{x^5}{5!}-\\frac{x^7}{7!} + ...\n",
    "\\end{equation}\n",
    "or\n",
    "\\begin{equation}\n",
    "{\\rm sin} \\,x \\simeq \\sum_{n=1}^{N}\\frac{(-1)^{n-1}x^{2n-1}}{(2n-1)!}\n",
    "\\end{equation}"
   ]
  },
  {
   "cell_type": "code",
   "execution_count": 203,
   "metadata": {},
   "outputs": [],
   "source": [
    "import numpy as np\n",
    "\n",
    "def sin1(x, n):\n",
    "    sin1 = 0.0\n",
    "    for i in range(1,n+1):\n",
    "        sin1+=(-1)**(i-1)*x**(2*i-1)/np.math.factorial(2*i-1)\n",
    "    return sin1"
   ]
  },
  {
   "cell_type": "code",
   "execution_count": 212,
   "metadata": {},
   "outputs": [
    {
     "name": "stdout",
     "output_type": "stream",
     "text": [
      "-0.4646021794137545\n",
      "--- 0.00041103363037109375 seconds ---\n"
     ]
    }
   ],
   "source": [
    "import time\n",
    "start_time = time.time()\n",
    "print(sin1(5.8,20)) # compare with -0.46460217941375737\n",
    "print(\"--- %s seconds ---\" % (time.time() - start_time))"
   ]
  },
  {
   "cell_type": "markdown",
   "metadata": {},
   "source": [
    "### 2.3.3 using summing series but use relationship between different series\n",
    "\\begin{equation}\n",
    "nth\\, term=\\frac{-x^2}{(2n-1)(2n-2)} \\times(n-1)th\\, term\n",
    "\\end{equation}"
   ]
  },
  {
   "cell_type": "code",
   "execution_count": 202,
   "metadata": {},
   "outputs": [],
   "source": [
    "import numpy as np\n",
    "\n",
    "def sin2(x, n):\n",
    "    sin2 = 0.0\n",
    "    nm1th = x\n",
    "    sin2 = nm1th\n",
    "    for i in range(2,n+1):\n",
    "        nth = nm1th*(-x*x)/(2*i-1)/(2*i-2)\n",
    "        sin2 += nth\n",
    "        nm1th = nth\n",
    "        print(i,sin2,nth)\n",
    "    return sin2"
   ]
  },
  {
   "cell_type": "code",
   "execution_count": 201,
   "metadata": {},
   "outputs": [
    {
     "name": "stdout",
     "output_type": "stream",
     "text": [
      "2 -26.718666666666667 -32.51866666666667\n",
      "3 27.97773066666667 54.69639733333334\n",
      "4 -15.831479006984129 -43.8092096736508\n",
      "5 4.637157290538273 20.4686362975224\n",
      "6 -1.6225238462676685 -6.259681136805941\n",
      "7 -0.2726797857410539 1.3498440605266147\n",
      "8 -0.4889119485796982 -0.21623216283864435\n",
      "9 -0.4621691178521541 0.026742830727544104\n",
      "10 -0.4647996114944774 -0.002630493642323344\n",
      "11 -0.4645889214798875 0.0002106900145898983\n",
      "12 -0.4646029286184069 -1.4007138519375849e-05\n",
      "13 -0.46460214328484056 7.853335663196727e-07\n",
      "14 -0.46460218091820404 -3.7633363491444145e-08\n",
      "15 -0.4646021793591076 1.5590964875026861e-09\n",
      "16 -0.4646021794155033 -5.63957052038606e-11\n",
      "17 -0.46460217941370674 1.7965450028957105e-12\n",
      "18 -0.46460217941375753 -5.07863646196737e-14\n",
      "19 -0.46460217941375626 1.2826226019563238e-15\n",
      "20 -0.4646021794137563 -2.91143214101287e-17\n",
      "-0.4646021794137563\n",
      "--- 0.002959012985229492 seconds ---\n"
     ]
    }
   ],
   "source": [
    "import time\n",
    "start_time = time.time()\n",
    "print(sin2(5.8,20))\n",
    "print(\"--- %s seconds ---\" % (time.time() - start_time)) # compare with -0.46460217941375737"
   ]
  },
  {
   "cell_type": "code",
   "execution_count": 213,
   "metadata": {},
   "outputs": [
    {
     "name": "stdout",
     "output_type": "stream",
     "text": [
      "2 -26.718666666666667 -32.51866666666667\n",
      "3 27.97773066666667 54.69639733333334\n",
      "4 -15.831479006984129 -43.8092096736508\n",
      "5 4.637157290538273 20.4686362975224\n",
      "6 -1.6225238462676685 -6.259681136805941\n",
      "7 -0.2726797857410539 1.3498440605266147\n",
      "8 -0.4889119485796982 -0.21623216283864435\n",
      "9 -0.4621691178521541 0.026742830727544104\n",
      "10 -0.4647996114944774 -0.002630493642323344\n",
      "11 -0.4645889214798875 0.0002106900145898983\n",
      "12 -0.4646029286184069 -1.4007138519375849e-05\n",
      "13 -0.46460214328484056 7.853335663196727e-07\n",
      "14 -0.46460218091820404 -3.7633363491444145e-08\n",
      "15 -0.4646021793591076 1.5590964875026861e-09\n",
      "16 -0.4646021794155033 -5.63957052038606e-11\n",
      "17 -0.46460217941370674 1.7965450028957105e-12\n",
      "18 -0.46460217941375753 -5.07863646196737e-14\n",
      "19 -0.46460217941375626 1.2826226019563238e-15\n",
      "20 -0.4646021794137563 -2.91143214101287e-17\n",
      "21 -0.4646021794137563 5.971986416077618e-19\n",
      "22 -0.4646021794137563 -1.112389939295964e-20\n",
      "23 -0.4646021794137563 1.8899392706018298e-22\n",
      "24 -0.4646021794137563 -2.9406825653582588e-24\n",
      "25 -0.4646021794137563 4.2059762541943806e-26\n",
      "-0.4646021794137563\n"
     ]
    }
   ],
   "source": [
    "print(sin2(5.8,25)) "
   ]
  },
  {
   "cell_type": "markdown",
   "metadata": {},
   "source": [
    "When to stop?  \n",
    "\n",
    "The new term is smaller than the round-off error  \n",
    "|nth term/sum|<1.e-16\n"
   ]
  },
  {
   "cell_type": "code",
   "execution_count": 187,
   "metadata": {},
   "outputs": [],
   "source": [
    "import numpy as np\n",
    "\n",
    "def sin3(x, n):\n",
    "    sin3 = 0.0\n",
    "    nm1th = x\n",
    "    sin3 = nm1th\n",
    "    for i in range(2,n+1):\n",
    "        nth = nm1th*(-x*x)/(2*i-1)/(2*i-2)\n",
    "        sin3 += nth\n",
    "        nm1th = nth\n",
    "        print(i,sin3,nth)\n",
    "        if abs(nth/sin3)<1.e-16:\n",
    "            return sin3\n",
    "    return sin3"
   ]
  },
  {
   "cell_type": "code",
   "execution_count": 197,
   "metadata": {},
   "outputs": [
    {
     "name": "stdout",
     "output_type": "stream",
     "text": [
      "2 -26.718666666666667 -32.51866666666667\n",
      "3 27.97773066666667 54.69639733333334\n",
      "4 -15.831479006984129 -43.8092096736508\n",
      "5 4.637157290538273 20.4686362975224\n",
      "6 -1.6225238462676685 -6.259681136805941\n",
      "7 -0.2726797857410539 1.3498440605266147\n",
      "8 -0.4889119485796982 -0.21623216283864435\n",
      "9 -0.4621691178521541 0.026742830727544104\n",
      "10 -0.4647996114944774 -0.002630493642323344\n",
      "11 -0.4645889214798875 0.0002106900145898983\n",
      "12 -0.4646029286184069 -1.4007138519375849e-05\n",
      "13 -0.46460214328484056 7.853335663196727e-07\n",
      "14 -0.46460218091820404 -3.7633363491444145e-08\n",
      "15 -0.4646021793591076 1.5590964875026861e-09\n",
      "16 -0.4646021794155033 -5.63957052038606e-11\n",
      "17 -0.46460217941370674 1.7965450028957105e-12\n",
      "18 -0.46460217941375753 -5.07863646196737e-14\n",
      "19 -0.46460217941375626 1.2826226019563238e-15\n",
      "20 -0.4646021794137563 -2.91143214101287e-17\n",
      "-0.4646021794137563\n",
      "--- 0.0029981136322021484 seconds ---\n"
     ]
    }
   ],
   "source": [
    "import time\n",
    "start_time = time.time()\n",
    "print(sin3(5.8,23))\n",
    "print(\"--- %s seconds ---\" % (time.time() - start_time))"
   ]
  },
  {
   "cell_type": "markdown",
   "metadata": {},
   "source": [
    "# How to calculate $e^x$ : very careful with subtraction\n",
    "\n",
    "\\begin{equation}\n",
    "e^x=1+x+\\frac{x^2}{2!}+\\frac{x^3}{3!}+...\n",
    "\\end{equation}"
   ]
  },
  {
   "cell_type": "code",
   "execution_count": 221,
   "metadata": {},
   "outputs": [
    {
     "name": "stdout",
     "output_type": "stream",
     "text": [
      "2.718281828459045 0.36787944117144233\n"
     ]
    }
   ],
   "source": [
    "import numpy as np\n",
    "print(np.e,np.e**(-1))"
   ]
  },
  {
   "cell_type": "code",
   "execution_count": 217,
   "metadata": {},
   "outputs": [],
   "source": [
    "import numpy as np\n",
    "\n",
    "def exp1(x, n):\n",
    "    exp1 = 0.0\n",
    "    for i in range(n):\n",
    "        exp1+=x**i/np.math.factorial(i)\n",
    "    return exp1"
   ]
  },
  {
   "cell_type": "code",
   "execution_count": 228,
   "metadata": {},
   "outputs": [
    {
     "name": "stdout",
     "output_type": "stream",
     "text": [
      "-6.061310256546751e-05\n",
      "1.0249301721642577e-05\n"
     ]
    }
   ],
   "source": [
    "exact=np.e**(-1)\n",
    "print((exp1(-1,8)-exact)/exact)\n",
    "print((1./exp1(1,8)-exact)/exact)"
   ]
  },
  {
   "cell_type": "code",
   "execution_count": null,
   "metadata": {},
   "outputs": [],
   "source": []
  }
 ],
 "metadata": {
  "kernelspec": {
   "display_name": "Python 3",
   "language": "python",
   "name": "python3"
  },
  "language_info": {
   "codemirror_mode": {
    "name": "ipython",
    "version": 3
   },
   "file_extension": ".py",
   "mimetype": "text/x-python",
   "name": "python",
   "nbconvert_exporter": "python",
   "pygments_lexer": "ipython3",
   "version": "3.6.3"
  }
 },
 "nbformat": 4,
 "nbformat_minor": 2
}

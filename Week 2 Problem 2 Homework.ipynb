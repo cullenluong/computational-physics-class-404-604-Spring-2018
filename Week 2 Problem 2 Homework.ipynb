{
 "cells": [
  {
   "cell_type": "code",
   "execution_count": 2,
   "metadata": {},
   "outputs": [],
   "source": [
    "import matplotlib.pyplot as plt\n",
    "import numpy as np"
   ]
  },
  {
   "cell_type": "code",
   "execution_count": 3,
   "metadata": {},
   "outputs": [],
   "source": [
    "#write 2 functions that return 2 outputs each for both forms of the quadratic equation\n",
    "#investigate catestrophic cancellation, and examine the errors and relative errors\n",
    "#what are the most precise solutions? ie least relative error?"
   ]
  },
  {
   "cell_type": "code",
   "execution_count": null,
   "metadata": {},
   "outputs": [],
   "source": [
    "#First Method negative is more accurate, Second Method positive is more accurate"
   ]
  },
  {
   "cell_type": "code",
   "execution_count": 4,
   "metadata": {},
   "outputs": [],
   "source": [
    "np.set_printoptions(precision=31)\n",
    "def quad1(a,b,c):\n",
    "    xp = (-b + np.sqrt(b**2-4*a*c))/(2*a)\n",
    "    xm = (-b - np.sqrt(b**2-4*a*c))/(2*a)\n",
    "    return (xp,xm)\n",
    "\n",
    "def quad2(a,b,c):\n",
    "    xp = -(2*c)/(b + np.sqrt(b**2-4*a*c))\n",
    "    xm = -(2*c)/(b - np.sqrt(b**2-4*a*c))\n",
    "    return (xp,xm)\n"
   ]
  },
  {
   "cell_type": "markdown",
   "metadata": {},
   "source": [
    "Actual results should approach 0 for the positive solution and -1 for the negative solution \n",
    "\n",
    "First method should be more accurate for the negative solution since there are no cancellations\n",
    "Second method should be more accurate for the positive solution since there are no cancellations"
   ]
  },
  {
   "cell_type": "code",
   "execution_count": 5,
   "metadata": {},
   "outputs": [
    {
     "name": "stdout",
     "output_type": "stream",
     "text": [
      "First Method Solutions     1: \n",
      " -1.1270166537925829786104259255808e-01  -8.8729833462074170213895740744192e-01 \n",
      "Second Method Solutions      1: \n",
      " -1.1270166537925831173883040037254e-01  -8.8729833462074181316125986995758e-01 \n",
      "\n",
      "\n",
      "First Method Solutions     2: \n",
      " -1.0102051443364401528413054620614e-02  -9.8989794855663559847158694537939e-01 \n",
      "Second Method Solutions      2: \n",
      " -1.0102051443364380711731342898929e-02  -9.8989794855663360007014262009761e-01 \n",
      "\n",
      "\n",
      "First Method Solutions     3: \n",
      " -1.0010020050140178149433722865069e-03  -9.9899899799498603769620785897132e-01 \n",
      "Second Method Solutions      3: \n",
      " -1.0010020050140421010720359618063e-03  -9.9899899799501024055814468738390e-01 \n",
      "\n",
      "\n",
      "First Method Solutions     4: \n",
      " -1.0001000200049459110118732496630e-04  -9.9989998999799944989774758141721e-01 \n",
      "Second Method Solutions      4: \n",
      " -1.0001000200050014763732131317653e-04  -9.9989998999805507207128130175988e-01 \n",
      "\n",
      "\n",
      "First Method Solutions     5: \n",
      " -1.0000100002016676370431014220230e-05  -9.9998999989999792781247833772795e-01 \n",
      "Second Method Solutions      5: \n",
      " -1.0000100002000050807742306813175e-05  -9.9998999989833547985540462832432e-01 \n",
      "\n",
      "\n",
      "First Method Solutions     6: \n",
      " -1.0000010000066339443947072140872e-06  -9.9999899999899999336605560529279e-01 \n",
      "Second Method Solutions      6: \n",
      " -1.0000010000020000388985157505073e-06  -9.9999899999436603348357266440871e-01 \n",
      "\n",
      "\n",
      "First Method Solutions     7: \n",
      " -1.0000000999488278807802998926491e-07  -9.9999989999998994960606069071218e-01 \n",
      "Second Method Solutions      7: \n",
      " -1.0000001000000200374832876439382e-07  -9.9999990005118211122692173375981e-01 \n",
      "\n",
      "\n",
      "First Method Solutions     8: \n",
      " -1.0000000105758743984551983885467e-08  -9.9999998999999983873010478419019e-01 \n",
      "Second Method Solutions      8: \n",
      " -1.0000000100000003549825186046057e-08  -9.9999998942412571256710407396895e-01 \n",
      "\n",
      "\n",
      "First Method Solutions     9: \n",
      " -1.0000000272292197678325464949012e-09  -9.9999999899999991725962900090963e-01 \n",
      "Second Method Solutions      9: \n",
      " -1.0000000010000002114928729926514e-09  -9.9999997277078100932357074270840e-01 \n",
      "\n",
      "\n",
      "First Method Solutions    10: \n",
      " -1.0000000827403709990903735160828e-10  -9.9999999989999999172596290009096e-01 \n",
      "Second Method Solutions     10: \n",
      " -1.0000000001000000978822349250927e-10  -9.9999991725963588429237915988779e-01 \n",
      "\n",
      "\n",
      "First Method Solutions    11: \n",
      " -1.0000000827403709990903735160828e-11  -9.9999999998999999917259629000910e-01 \n",
      "Second Method Solutions     11: \n",
      " -1.0000000000099999391796245073288e-11  -9.9999991725963577327007669737213e-01 \n",
      "\n",
      "\n",
      "First Method Solutions    12: \n",
      " -1.0000333894311097537865862250328e-12  -9.9999999999899991109941765898839e-01 \n",
      "Second Method Solutions     12: \n",
      " -1.0000000000010000283225271685735e-12  -9.9996661168370715166986428812379e-01 \n",
      "\n",
      "\n",
      "First Method Solutions    13: \n",
      " -1.0003109451872660429216921329498e-13  -9.9999999999989996890548127339571e-01 \n",
      "Second Method Solutions     13: \n",
      " -1.0000000000001001210454000053782e-13  -9.9968915146958847728342334448826e-01 \n",
      "\n",
      "\n",
      "First Method Solutions    14: \n",
      " -9.9920072216264088638126850128174e-15  -9.9999999999999000799277837359114e-01 \n",
      "Second Method Solutions     14: \n",
      " -1.0000000000000099384667151393086e-14  -1.0007999171934436333231133176014e+00 \n",
      "\n",
      "\n",
      "First Method Solutions    15: \n",
      " -9.9920072216264088638126850128174e-16  -9.9999999999999900079927783735911e-01 \n",
      "Second Method Solutions     15: \n",
      " -1.0000000000000010637815314029258e-15  -1.0007999171934436333231133176014e+00 \n",
      "\n",
      "\n",
      "First Method Solutions    16: \n",
      " -1.1102230246251565404236316680908e-16  -9.9999999999999988897769753748435e-01 \n",
      "Second Method Solutions     16: \n",
      " -1.0000000000000001023573031648177e-16  -9.0071992547409918117296001582872e-01 \n",
      "\n",
      "\n",
      "First Method Solutions    17: \n",
      " 0.0000000000000000000000000000000e+00  -1.0000000000000000000000000000000e+00 \n",
      "Second Method Solutions     17: \n",
      " -1.0000000000000000715424240546219e-17  -inf \n",
      "\n",
      "\n",
      "First Method Solutions    18: \n",
      " 0.0000000000000000000000000000000e+00  -1.0000000000000000000000000000000e+00 \n",
      "Second Method Solutions     18: \n",
      " -1.0000000000000000715424240546219e-18  -inf \n",
      "\n",
      "\n",
      "First Method Solutions    19: \n",
      " 0.0000000000000000000000000000000e+00  -1.0000000000000000000000000000000e+00 \n",
      "Second Method Solutions     19: \n",
      " -9.9999999999999997524592683526013e-20  -inf \n",
      "\n",
      "\n"
     ]
    },
    {
     "name": "stderr",
     "output_type": "stream",
     "text": [
      "C:\\ProgramData\\Anaconda3\\lib\\site-packages\\ipykernel\\__main__.py:9: RuntimeWarning: divide by zero encountered in double_scalars\n"
     ]
    }
   ],
   "source": [
    "a = 1\n",
    "b = 1\n",
    "for i in range(1,20):\n",
    "    xp = quad1(a,b,10**(-i))[0]\n",
    "    xm = quad1(a,b,10**(-i))[1]\n",
    "    print(\"First Method Solutions {0:5d}: \\n {1:.31e}  {2:.31e} \".format(i,xp,xm))\n",
    "    \n",
    "    xp = quad2(a,b,10**(-i))[0]\n",
    "    xm = quad2(a,b,10**(-i))[1]\n",
    "    print(\"Second Method Solutions  {0:5d}: \\n {1:.31e}  {2:.31e} \".format(i,xp,xm))\n",
    "    print(\"\\n\")"
   ]
  },
  {
   "cell_type": "code",
   "execution_count": 57,
   "metadata": {},
   "outputs": [
    {
     "data": {
      "text/plain": [
       "[<matplotlib.lines.Line2D at 0x285b894b5c0>]"
      ]
     },
     "execution_count": 57,
     "metadata": {},
     "output_type": "execute_result"
    },
    {
     "data": {
      "image/png": "[encoded data removed]",
      "text/plain": [
       "<matplotlib.figure.Figure at 0x285b88fa438>"
      ]
     },
     "metadata": {},
     "output_type": "display_data"
    }
   ],
   "source": [
    "x = [10**(-i) for i in range(1,17)]\n",
    "y = [abs(1-(quad2(a,b,i)[0]/quad1(a,b,i)[0])) for i in x]\n",
    "plt.title('Relative Error of Method 1 for Negative Solutions')\n",
    "plt.plot(y)"
   ]
  },
  {
   "cell_type": "code",
   "execution_count": 58,
   "metadata": {},
   "outputs": [
    {
     "data": {
      "text/plain": [
       "[<matplotlib.lines.Line2D at 0x285b898c400>]"
      ]
     },
     "execution_count": 58,
     "metadata": {},
     "output_type": "execute_result"
    },
    {
     "data": {
      "image/png": "[encoded data removed]",
      "text/plain": [
       "<matplotlib.figure.Figure at 0x285b892b1d0>"
      ]
     },
     "metadata": {},
     "output_type": "display_data"
    }
   ],
   "source": [
    "x = [10**(-i) for i in range(1,17)]\n",
    "y = [abs(1-(quad1(a,b,i)[1]/quad2(a,b,i)[1])) for i in x]\n",
    "plt.title('Relative Error of Method 2 for Negative Solutions')\n",
    "plt.plot(y)"
   ]
  },
  {
   "cell_type": "code",
   "execution_count": 60,
   "metadata": {},
   "outputs": [],
   "source": [
    "#Use cases where there are no cancellations involved\n",
    "\n",
    "def bestquadratic(a,b,c):\n",
    "    if b>= 0: \n",
    "        xp = -(2*c)/(b + np.sqrt(b**2-4*a*c))\n",
    "        xm = xm = (-b - np.sqrt(b**2-4*a*c))/(2*a)\n",
    "        return(xp,xm)\n",
    "    else:\n",
    "        xp = (-b + np.sqrt(b**2-4*a*c))/(2*a)\n",
    "        xm = -(2*c)/(b - np.sqrt(b**2-4*a*c))\n",
    "        return (xp,xm)"
   ]
  },
  {
   "cell_type": "code",
   "execution_count": null,
   "metadata": {},
   "outputs": [],
   "source": []
  }
 ],
 "metadata": {
  "kernelspec": {
   "display_name": "Python 3",
   "language": "python",
   "name": "python3"
  },
  "language_info": {
   "codemirror_mode": {
    "name": "ipython",
    "version": 3
   },
   "file_extension": ".py",
   "mimetype": "text/x-python",
   "name": "python",
   "nbconvert_exporter": "python",
   "pygments_lexer": "ipython3",
   "version": "3.6.3"
  }
 },
 "nbformat": 4,
 "nbformat_minor": 2
}

{
 "cells": [
  {
   "cell_type": "markdown",
   "metadata": {},
   "source": [
    "# Physics 404/604\n",
    "\n",
    "## Computational Physics (Spring 2018)\n",
    "\n",
    "## BPB-250, Mon./Wed. 2:30-3:45 pm\n",
    "\n",
    "| Instructor | Prof. Zhaohuan Zhu                 |\n",
    "| ---------- | :--------------------------------- |\n",
    "| Email      | zhaohuan.zhu@unlv.edu              |\n",
    "| Website    | http://www.physics.unlv.edu/~zhzhu |\n",
    "| Office     | BPB 245                            |\n",
    "\n",
    "\n",
    "\n",
    "# 1. How to think computationally\n",
    "\n",
    "Fibonacci number\n",
    "The number series: 1, 1, 2, 3, 5, 8, 13, 21, 34, …\n",
    "\\begin{equation}\n",
    "F_{n}=F_{n-1}+F_{n-2}\n",
    "\\end{equation}\n",
    "What is $F_{n}$?\n",
    "\n",
    "Solution: there is an analytical solution\n",
    "\\begin{equation}\n",
    "F_{n}=\\frac{\\phi^{n}-(1-\\phi)^n}{\\sqrt{5}}\n",
    "\\end{equation}\n",
    "where $\\phi=\\frac{1+\\sqrt(5)}{2}$  \n",
    "\n",
    "## 1.1 Programming guide\n",
    "* Give the correct answers\n",
    "* clear and easy to read (including documenting itself)\n",
    "* easy to use\n",
    "* built up out of small programs that can be tested individually easy to modify and robust  \n",
    "\n",
    "\n",
    "## 1.2 Always start with I/O (input/output)\n",
    "\n",
    "Output:  \n",
    " 1 .  C way: print command"
   ]
  },
  {
   "cell_type": "code",
   "execution_count": 1,
   "metadata": {},
   "outputs": [
    {
     "name": "stdout",
     "output_type": "stream",
     "text": [
      "a= 1 , b= 2\n",
      "a=1, b=2\n"
     ]
    }
   ],
   "source": [
    "# Output, print command\n",
    "\n",
    "a=1\n",
    "b=2\n",
    "print('a=',a,', b=',b) # no difference between 'a' and \"a\", the default seperation is the white space\n",
    "print('a=',a,', b=',b,sep='') # the default seperation is the sep, here no seperation"
   ]
  },
  {
   "cell_type": "code",
   "execution_count": 2,
   "metadata": {
    "scrolled": true
   },
   "outputs": [
    {
     "name": "stdout",
     "output_type": "stream",
     "text": [
      "John: 3 grade, midterm exam: 98.000, final exam:   9.6e+01\n",
      "\n"
     ]
    }
   ],
   "source": [
    "# Old printf way\n",
    "print(\"John: %d grade, midterm exam: %6.3f, final exam: %9.1e\\n\" % (3, 98., 95.5))\n",
    "#    --------------format string---------------------string modulo operator----Tuple--\n",
    "\n",
    "#  %d for integer\n",
    "#  %s for string\n",
    "#  %a.bf, or %a.be for the floating point number\n",
    "#   a is the total spaces needed and b is the total digits after the decimal point"
   ]
  },
  {
   "cell_type": "markdown",
   "metadata": {},
   "source": [
    " 2 .  Python format way"
   ]
  },
  {
   "cell_type": "code",
   "execution_count": 11,
   "metadata": {
    "scrolled": false
   },
   "outputs": [
    {
     "data": {
      "text/plain": [
       "'John:  3 grade, midterm exam: 98.000, final exam:   9.6e+01'"
      ]
     },
     "execution_count": 11,
     "metadata": {},
     "output_type": "execute_result"
    }
   ],
   "source": [
    "# New python format way\n",
    "\"John: {0:2d} grade, midterm exam: {1:6.3f}, final exam: {2:9.1e}\".format(3, 98., 95.5) \n",
    "# template.fomat(arguments), the curly braces in the template will be substituted with the value from arguments\n",
    "# 0, 1, 2 in the curly braces are the position parameter \n"
   ]
  },
  {
   "cell_type": "code",
   "execution_count": 12,
   "metadata": {},
   "outputs": [
    {
     "data": {
      "text/plain": [
       "'John: 3 grade, midterm exam: 98.0, final exam: 95.5'"
      ]
     },
     "execution_count": 12,
     "metadata": {},
     "output_type": "execute_result"
    }
   ],
   "source": [
    "\"John: {} grade, midterm exam: {}, final exam: {}\".format(3, 98., 95.5)  # default position and format"
   ]
  },
  {
   "cell_type": "code",
   "execution_count": 13,
   "metadata": {},
   "outputs": [
    {
     "data": {
      "text/plain": [
       "\"John:     3 grade, midterm exam: 98.000, 'final exam:'   9.6e+01\""
      ]
     },
     "execution_count": 13,
     "metadata": {},
     "output_type": "execute_result"
    }
   ],
   "source": [
    "\"John: {a:5d} grade, midterm exam: {b:6.3f}, \\'final exam:\\' {c:9.1e}\".format(a=3, b=98., c=95.5)  #use keyword parameter"
   ]
  },
  {
   "cell_type": "code",
   "execution_count": 14,
   "metadata": {},
   "outputs": [
    {
     "data": {
      "text/plain": [
       "'John:     3 grade, midterm exam: 98.000, final exam:   9.6e+01'"
      ]
     },
     "execution_count": 14,
     "metadata": {},
     "output_type": "execute_result"
    }
   ],
   "source": [
    "a=3\n",
    "b=98.\n",
    "c=95.5\n",
    "\"John: {:5d} grade, midterm exam: {:6.3f}, final exam: {:9.1e}\".format(a,b,c) # default position"
   ]
  },
  {
   "cell_type": "markdown",
   "metadata": {},
   "source": [
    "Input  \n",
    "\n",
    "1 . Input from Keyboard  \n",
    "      Input function"
   ]
  },
  {
   "cell_type": "code",
   "execution_count": null,
   "metadata": {},
   "outputs": [],
   "source": [
    "student1 = input(\"name, midterm, final\") # read in a string\n",
    "[name, mid, final]=student1.split() # split the string to name, midterm and final\n",
    "mid,final=[float(mid),float(final)] # change the string to the float type\n",
    "print(\"The student %s got %6.2f for the mid-exam and %6.2f for the final exam\" % (name,mid,final))\n",
    "print(type(mid))"
   ]
  },
  {
   "cell_type": "markdown",
   "metadata": {},
   "source": [
    "\n",
    "\n",
    "2 .  reading from a file, \n",
    "\n",
    "     1.1 strings\n",
    "     suppose test.dat is 'Monday\\nTuesday\\nWednesday\\nThursday\\nFriday\\nSaturday\\nSunday\\n'   \n",
    "\n",
    "     f=open('test.dat','r')  \n",
    "     f.read()  # read the entire file 'Monday\\nTuesday\\nWednesday\\nThursday\\nFriday\\nSaturday\\nSunday\\n'  \n",
    "     \n",
    "     or  f.readline()  # just read one line 'Monday\\n'  \n",
    "     \n",
    "     or  f.readlines() # each line is read seperately ['Monday\\n', 'Tuesday\\n', 'Wednesday\\n', 'Thursday\\n', 'Friday\\n', 'Saturday\\n', 'Sunday\\n']\n",
    "     \n",
    "     1.2 numbers\n",
    "     suppose test.dat is '1 2 3 \\n 4 5 6 \\n 7 8 9'\n",
    "     \n",
    "     with open('test.dat') as f:\n",
    "        for line in f:  #line is a string\n",
    "           #split the string on whitespace, return a list of numbers (as strings)\n",
    "           numbers_str = line.split()\n",
    "           #convert numbers to floats\n",
    "           numbers_float = [float(x) for x in numbers_str]  #map(float,numbers_str) works too"
   ]
  },
  {
   "cell_type": "code",
   "execution_count": null,
   "metadata": {
    "scrolled": true
   },
   "outputs": [],
   "source": [
    "with open('test.dat') as f:\n",
    "    for line in f:\n",
    "        print(line)\n",
    "        str=line.split()\n",
    "        print(str)\n",
    "        num=[float(x) for x in str]\n",
    "        print(num)"
   ]
  },
  {
   "cell_type": "markdown",
   "metadata": {},
   "source": [
    "## 1.3 Functions to calculate Fibonacci numbers\n",
    "\n",
    "### 1.3.1 Direct Calculation:"
   ]
  },
  {
   "cell_type": "code",
   "execution_count": 15,
   "metadata": {},
   "outputs": [],
   "source": [
    "import numpy as np\n",
    "def fib1(n):\n",
    "    phi=(1.+np.sqrt(5))/2.\n",
    "    return (phi**n-(1.-phi)**n)/np.sqrt(5.)"
   ]
  },
  {
   "cell_type": "code",
   "execution_count": 16,
   "metadata": {},
   "outputs": [
    {
     "name": "stdout",
     "output_type": "stream",
     "text": [
      "102334155.00000013\n",
      "--- 0.0 seconds ---\n",
      "1.7108476902341032e+292\n",
      "--- 0.0 seconds ---\n"
     ]
    }
   ],
   "source": [
    "import time\n",
    "start_time = time.time()\n",
    "print(fib1(40))\n",
    "print(\"--- %s seconds ---\" % (time.time() - start_time))\n",
    "start_time = time.time()\n",
    "print(fib1(1400)) # 1500 too much\n",
    "print(\"--- %s seconds ---\" % (time.time() - start_time))"
   ]
  },
  {
   "cell_type": "markdown",
   "metadata": {},
   "source": [
    "Dynamic Programming:  \n",
    "An algorithmic paradigm that solves a complex problem by breaking it into subproblems and stores the results of subproblems to avoid computing the same results again.\n",
    "\n",
    "### 1.3.2 Recursion method:"
   ]
  },
  {
   "cell_type": "code",
   "execution_count": 17,
   "metadata": {},
   "outputs": [],
   "source": [
    "# Recursion\n",
    "def fib2(n):      # extremely simple, but exponentially running time, very slow for large n, n cannot too large (stack limit)\n",
    "    if n == 0: return 0\n",
    "    elif n == 1: return 1\n",
    "    else: return fib2(n-1)+fib2(n-2)"
   ]
  },
  {
   "cell_type": "code",
   "execution_count": 18,
   "metadata": {},
   "outputs": [
    {
     "name": "stdout",
     "output_type": "stream",
     "text": [
      "102334155\n",
      "--- 52.977948904037476 seconds ---\n"
     ]
    }
   ],
   "source": [
    "import time\n",
    "start_time = time.time()\n",
    "print(fib2(40))\n",
    "print(\"--- %s seconds ---\" % (time.time() - start_time))"
   ]
  },
  {
   "cell_type": "markdown",
   "metadata": {},
   "source": [
    "### 1.3.3 Memorization method (Top down):"
   ]
  },
  {
   "cell_type": "code",
   "execution_count": 19,
   "metadata": {},
   "outputs": [],
   "source": [
    "# Memorization\n",
    "#M = {0: 0, 1: 1} # dictionary\n",
    "\n",
    "#def fib3(n):  # Store the data we already calculated, linear space and time complexity, but still have the stack limit\n",
    "#    if n in M:\n",
    "#        return M[n]\n",
    "#    M[n] = fib3(n - 1) + fib3(n - 2)\n",
    "#    return M[n]"
   ]
  },
  {
   "cell_type": "code",
   "execution_count": 20,
   "metadata": {},
   "outputs": [],
   "source": [
    "def fib3(n, table):\n",
    "    if n == 0 or n==1:\n",
    "        table[n]=n\n",
    "    \n",
    "    # if the value has not been calculated, calculate it \n",
    "    if table[n] is None:\n",
    "        table[n] = fib3(n-1, table) + fib3(n-2, table)\n",
    "        \n",
    "    return table[n]"
   ]
  },
  {
   "cell_type": "code",
   "execution_count": 21,
   "metadata": {},
   "outputs": [
    {
     "name": "stdout",
     "output_type": "stream",
     "text": [
      "102334155\n",
      "--- 0.0 seconds ---\n",
      "17108476902340227241249719513231821477382749898026920041550883749834348017250935801359315038923367841494936038231522506358371361016671790887791259870264957823133253627917432203111969704623229384763490617075388642696139893354058660570399927047816296952516330636633851111646387885472698683607925\n",
      "--- 0.0 seconds ---\n"
     ]
    }
   ],
   "source": [
    "import time\n",
    "n=40\n",
    "table = [None]*(n+1)\n",
    "start_time = time.time()\n",
    "print(fib3(n, table))\n",
    "print(\"--- %s seconds ---\" % (time.time() - start_time))\n",
    "n=1400\n",
    "table = [None]*(n+1)\n",
    "start_time = time.time()\n",
    "print(fib3(n, table))\n",
    "print(\"--- %s seconds ---\" % (time.time() - start_time))"
   ]
  },
  {
   "cell_type": "markdown",
   "metadata": {},
   "source": [
    "### 1.3.4  Tabulation Method (bottom-up)\n"
   ]
  },
  {
   "cell_type": "code",
   "execution_count": 47,
   "metadata": {},
   "outputs": [],
   "source": [
    "def fib4(n):\n",
    "    arr = [0]*(n+1)\n",
    "    arr[1] = 1\n",
    "    for i in range(2,n+1):\n",
    "        arr[i] = arr[i-1]+arr[i-2]\n",
    "    return arr[n]"
   ]
  },
  {
   "cell_type": "code",
   "execution_count": 69,
   "metadata": {},
   "outputs": [
    {
     "data": {
      "text/plain": [
       "8"
      ]
     },
     "execution_count": 69,
     "metadata": {},
     "output_type": "execute_result"
    }
   ],
   "source": [
    "fib4(6)"
   ]
  },
  {
   "cell_type": "markdown",
   "metadata": {},
   "source": [
    "## 1.3.5 Using Matrix Algebra"
   ]
  },
  {
   "cell_type": "code",
   "execution_count": 22,
   "metadata": {},
   "outputs": [],
   "source": [
    "def arrpow(arr, n):\n",
    "    yarr=arr\n",
    "    if n<1:\n",
    "        print('n needs to be larger than 1')\n",
    "    if n==1:\n",
    "        return arr\n",
    "    yarr = arrpow(arr, n//2)\n",
    "    yarr = [[yarr[0][0]*yarr[0][0]+yarr[0][1]*yarr[1][0],yarr[0][0]*yarr[0][1]+yarr[0][1]*yarr[1][1]],\n",
    "            [yarr[1][0]*yarr[0][0]+yarr[1][1]*yarr[1][0],yarr[1][0]*yarr[0][1]+yarr[1][1]*yarr[1][1]]]\n",
    "    if n%2:\n",
    "        yarr=[[yarr[0][0]*arr[0][0]+yarr[0][1]*arr[1][0],yarr[0][0]*arr[0][1]+yarr[0][1]*arr[1][1]],\n",
    "            [yarr[1][0]*arr[0][0]+yarr[1][1]*arr[1][0],yarr[1][0]*arr[0][1]+yarr[1][1]*arr[1][1]]]\n",
    "    return yarr\n",
    "\n",
    "def fib5(n):\n",
    "    arr= [[1,1],[1,0]]\n",
    "    f=arrpow(arr,n-1)[0][0]\n",
    "    return f\n",
    "    \n",
    "\n"
   ]
  },
  {
   "cell_type": "code",
   "execution_count": 25,
   "metadata": {},
   "outputs": [],
   "source": [
    "import numpy as np\n",
    "\n",
    "def arrpow(arr, n):\n",
    "   yarr=arr\n",
    "   if n<1:\n",
    "       print('n needs to be larger than 1')\n",
    "   if n==1:\n",
    "       return arr\n",
    "   yarr = arrpow(arr, n//2)\n",
    "   yarr = np.matmul(yarr,yarr)\n",
    "   if n%2:\n",
    "       yarr=np.matmul(yarr,arr)\n",
    "   return yarr\n",
    "\n",
    "def fib5(n):\n",
    "   arr= [[1,1],[1,0]]\n",
    "   f=arrpow(arr,n-1)[0][0]\n",
    "   return f\n",
    "    \n"
   ]
  },
  {
   "cell_type": "code",
   "execution_count": 26,
   "metadata": {},
   "outputs": [
    {
     "name": "stdout",
     "output_type": "stream",
     "text": [
      "102334155\n",
      "--- 0.0 seconds ---\n",
      "2051263349\n",
      "--- 0.0 seconds ---\n"
     ]
    }
   ],
   "source": [
    "import time\n",
    "start_time = time.time()\n",
    "print(fib5(40))\n",
    "print(\"--- %s seconds ---\" % (time.time() - start_time))\n",
    "import time\n",
    "start_time = time.time()\n",
    "print(fib5(1400)) # 93 overflow\n",
    "print(\"--- %s seconds ---\" % (time.time() - start_time))"
   ]
  },
  {
   "cell_type": "code",
   "execution_count": 27,
   "metadata": {},
   "outputs": [
    {
     "name": "stdout",
     "output_type": "stream",
     "text": [
      "102334155\n",
      "--- 0.0 seconds ---\n",
      "2051263349\n",
      "--- 0.0 seconds ---\n"
     ]
    }
   ],
   "source": [
    "import time\n",
    "start_time = time.time()\n",
    "print(fib5(40))\n",
    "print(\"--- %s seconds ---\" % (time.time() - start_time))\n",
    "import time\n",
    "start_time = time.time()\n",
    "print(fib5(1400)) # 93 overflow\n",
    "print(\"--- %s seconds ---\" % (time.time() - start_time))"
   ]
  },
  {
   "cell_type": "code",
   "execution_count": 66,
   "metadata": {},
   "outputs": [
    {
     "data": {
      "text/plain": [
       "8"
      ]
     },
     "execution_count": 66,
     "metadata": {},
     "output_type": "execute_result"
    }
   ],
   "source": [
    "fib5(6)"
   ]
  },
  {
   "cell_type": "code",
   "execution_count": 65,
   "metadata": {},
   "outputs": [
    {
     "data": {
      "text/plain": [
       "5"
      ]
     },
     "execution_count": 65,
     "metadata": {},
     "output_type": "execute_result"
    }
   ],
   "source": [
    "fib4(5)"
   ]
  },
  {
   "cell_type": "code",
   "execution_count": null,
   "metadata": {},
   "outputs": [],
   "source": []
  }
 ],
 "metadata": {
  "kernelspec": {
   "display_name": "Python 3",
   "language": "python",
   "name": "python3"
  },
  "language_info": {
   "codemirror_mode": {
    "name": "ipython",
    "version": 3
   },
   "file_extension": ".py",
   "mimetype": "text/x-python",
   "name": "python",
   "nbconvert_exporter": "python",
   "pygments_lexer": "ipython3",
   "version": "3.6.4"
  }
 },
 "nbformat": 4,
 "nbformat_minor": 2
}

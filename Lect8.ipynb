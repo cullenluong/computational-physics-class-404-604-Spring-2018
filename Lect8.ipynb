{
 "cells": [
  {
   "cell_type": "markdown",
   "metadata": {},
   "source": [
    "# Physics 404/604\n",
    "\n",
    "## Computational Physics (Spring 2018)\n",
    "\n",
    "## BPB-250, Mon./Wed. 2:30-3:45 pm\n",
    "\n",
    "| Instructor | Prof. Zhaohuan Zhu                 |\n",
    "| ---------- | :--------------------------------- |\n",
    "| Email      | zhaohuan.zhu@unlv.edu              |\n",
    "| Website    | http://www.physics.unlv.edu/~zhzhu |\n",
    "| Office     | BPB 245                            |"
   ]
  },
  {
   "cell_type": "markdown",
   "metadata": {},
   "source": [
    "# Solve Ordinary Differential Equations\n",
    "\n",
    "## Equation orders\n",
    "\n",
    "First-order (the degree of the derivative on the left side, y on the right side can be any order):\n",
    "\\begin{equation}\n",
    "\\frac{dy}{dt}=f(t,y)\n",
    "\\end{equation}\n",
    "e.g.\n",
    "\\begin{equation}\n",
    "\\frac{dy}{dt}=t^3*y^4+y^2+t\n",
    "\\end{equation}\n",
    "Second order: (the first derivative on the right side can be any power)\n",
    "\\begin{equation}\n",
    "\\frac{d^2y}{dt^2}+\\lambda \\frac{dy}{dt}=f(t,\\frac{dy}{dt},y)\n",
    "\\end{equation}\n",
    "e.g.\n",
    "\\begin{equation}\n",
    "\\frac{d^2y}{dt^2}+\\lambda \\frac{dy}{dt}= 5 t^3\\left(\\frac{dy}{dt}\\right)^5+t^7*y\n",
    "\\end{equation}\n",
    "t is the independent variable and y is the dependent variable. We are free to vary t and then\n",
    "y is determined. Although here we use t to represent the independent varialble, it can be any symbol (e.g. f(y))."
   ]
  },
  {
   "cell_type": "markdown",
   "metadata": {},
   "source": [
    "## Ordinary differential equation\n",
    "It contian only one independent variable (here t). \n",
    "If there are more than one independent varialbe, it is partial differential equation:\n",
    "\\begin{equation}\n",
    "\\frac{\\partial f(x,y)}{\\partial x}+\\frac{\\partial f(x,y)}{\\partial y}=0\n",
    "\\end{equation}\n",
    "\n",
    "## Linear and Nonlinear equations\n",
    "Only the first power of y or $d^n y/dt$ appears, e.g.:\n",
    "\\begin{equation}\n",
    "\\frac{dy}{dt}=g(t)^5y(t)\n",
    "\\end{equation}\n",
    "If $y_{1}(t)$ and $y_{1}(t)$ are two solutions, $\\alpha y_{1}(t)+\\beta y_{2}(t)$ is also the solution.\n",
    "\n",
    "Non-linear equation:\n",
    "\\begin{equation}\n",
    "\\frac{dy}{dt}=\\lambda y(t)-\\lambda^2 y^2(t)\n",
    "\\end{equation}\n",
    "\n",
    "## Initial and boundary conditions\n",
    "A first-order differential equation contains one arbitrary constant,\n",
    "and a second-order ODE contians two constants, and so on.  \n",
    "Additional condition is needed: either with initial condition or boundary condition"
   ]
  },
  {
   "cell_type": "markdown",
   "metadata": {},
   "source": [
    "## A general form\n",
    "Express ODEs of any order as N first-order ODEs y$^0$, ... y$^{N-1}$.\n",
    "\\begin{eqnarray}\n",
    "\\frac{dy_0}{dt}&=&f_0(t,\\bf{y})\\\\\n",
    "\\frac{dy_1}{dt}&=&f_1(t,\\bf{y})\\\\\n",
    "...\\\\\n",
    "\\frac{dy_{N-1}}{dt}&=&f_{N-1}(t,\\bf{y})\n",
    "\\end{eqnarray}\n",
    "Vector form\n",
    "\\begin{equation}\n",
    "\\frac{d{\\bf y}(t)}{dt}=\\bf{f(t,\\bf{y})}\n",
    "\\end{equation}\n",
    "where ${\\bf y}(t)=(y_0, ..., y_{N-1})$, ${\\bf{f(t)}}=(f_0, ..., f_{N-1})$.\n",
    "The right hand does not contain derivative."
   ]
  },
  {
   "cell_type": "markdown",
   "metadata": {},
   "source": [
    "## Numerical Algorithm\n",
    "### 1. Euler's Rule\n",
    "\\begin{equation}\n",
    "\\frac{d{\\bf y}(t)}{dt}\\simeq\\frac{{\\bf y}(t_{n+1})-{\\bf y}(t_{n})}{h}={\\bf f}(t,\\bf{y})\n",
    "\\end{equation}\n",
    "So\n",
    "\\begin{equation}\n",
    "{\\bf y}_{n+1}={\\bf y}_{n}+h {\\bf f}(t_n, {\\bf y}_{n})\n",
    "\\end{equation}\n",
    "The error is $O(h^2)$."
   ]
  },
  {
   "cell_type": "markdown",
   "metadata": {},
   "source": [
    "The rocket follows\n",
    "\\begin{equation}\n",
    "\\frac{d^2 {\\bf x} }{dt}=f({\\bf x})\n",
    "\\end{equation}\n",
    "where $f({\\bf x})=-GM{\\bf r}/r^3 $.\n",
    "\n",
    "In two dimensional space, we can write it as\n",
    "\\begin{eqnarray}\n",
    "\\frac{d x}{dt}=v_{x}\\\\\n",
    "\\frac{d v_{x}}{dt}=-\\frac{GM}{r^3}x\\\\\n",
    "\\frac{d y}{dt}=v_{y}\\\\\n",
    "\\frac{d v_{y}}{dt}=-\\frac{GM}{r^3}y\n",
    "\\end{eqnarray}\n",
    "where $r=\\sqrt{x^2+y^2}$"
   ]
  },
  {
   "cell_type": "code",
   "execution_count": 1,
   "metadata": {},
   "outputs": [
    {
     "data": {
      "application/javascript": [
       "require.undef(\"nbextensions/vpython_libraries/glow.min\");"
      ],
      "text/plain": [
       "<IPython.core.display.Javascript object>"
      ]
     },
     "metadata": {},
     "output_type": "display_data"
    },
    {
     "data": {
      "application/javascript": [
       "require.undef(\"nbextensions/vpython_libraries/glowcomm\");"
      ],
      "text/plain": [
       "<IPython.core.display.Javascript object>"
      ]
     },
     "metadata": {},
     "output_type": "display_data"
    },
    {
     "data": {
      "application/javascript": [
       "require.undef(\"nbextensions/vpython_libraries/jquery-ui.custom.min\");"
      ],
      "text/plain": [
       "<IPython.core.display.Javascript object>"
      ]
     },
     "metadata": {},
     "output_type": "display_data"
    },
    {
     "data": {
      "application/javascript": [
       "require([\"nbextensions/vpython_libraries/glow.min\"], function(){console.log(\"GLOW LOADED\");})"
      ],
      "text/plain": [
       "<IPython.core.display.Javascript object>"
      ]
     },
     "metadata": {},
     "output_type": "display_data"
    },
    {
     "data": {
      "application/javascript": [
       "require([\"nbextensions/vpython_libraries/glowcomm\"], function(){console.log(\"GLOWCOMM LOADED\");})"
      ],
      "text/plain": [
       "<IPython.core.display.Javascript object>"
      ]
     },
     "metadata": {},
     "output_type": "display_data"
    },
    {
     "data": {
      "application/javascript": [
       "require([\"nbextensions/vpython_libraries/jquery-ui.custom.min\"], function(){console.log(\"JQUERY LOADED\");})"
      ],
      "text/plain": [
       "<IPython.core.display.Javascript object>"
      ]
     },
     "metadata": {},
     "output_type": "display_data"
    },
    {
     "data": {
      "text/html": [
       "<div id=\"glowscript\" class=\"glowscript\"></div>"
      ],
      "text/plain": [
       "<IPython.core.display.HTML object>"
      ]
     },
     "metadata": {},
     "output_type": "display_data"
    },
    {
     "data": {
      "application/javascript": [
       "window.__context = { glowscript_container: $(\"#glowscript\").removeAttr(\"id\")}"
      ],
      "text/plain": [
       "<IPython.core.display.Javascript object>"
      ]
     },
     "metadata": {},
     "output_type": "display_data"
    },
    {
     "data": {
      "text/html": [
       "<div id=\"glowscript\" class=\"glowscript\"></div>"
      ],
      "text/plain": [
       "<IPython.core.display.HTML object>"
      ]
     },
     "metadata": {},
     "output_type": "display_data"
    },
    {
     "data": {
      "application/javascript": [
       "window.__context = { glowscript_container: $(\"#glowscript\").removeAttr(\"id\")}"
      ],
      "text/plain": [
       "<IPython.core.display.Javascript object>"
      ]
     },
     "metadata": {},
     "output_type": "display_data"
    }
   ],
   "source": [
    "# So we have y[0]=x, y[1]=v_{x}, y[2]=y, y[3]=v_{y}\n",
    "import numpy as np\n",
    "from vpython import * # must import vpython first\n",
    "\n",
    "scene = canvas() # with this you don't need to restart kernel each time\n",
    "gd = graph(x=0, y=0, width=600, height=600, \n",
    "      title='Orbit', xtitle='x', ytitle='y', \n",
    "      foreground=color.black, background=color.white, \n",
    "      xmax=2, xmin=-2, ymax=2, ymin=-2)\n",
    "\n",
    "f1 = gcurve(color=color.cyan)\t# a graphics curve  \n",
    "\n",
    "G=1.\n",
    "M=1.\n",
    "tend=2.*np.pi\n",
    "h=0.01\n",
    "y=[1.,0.,0.,1.]\n",
    "t=0\n",
    "\n",
    "def f(t, y):\n",
    "    f=np.zeros(4)\n",
    "    r=np.sqrt(y[0]*y[0]+y[2]*y[2])\n",
    "    f[0]=y[1]\n",
    "    f[1]=-G*M/r/r/r*y[0]\n",
    "    f[2]=y[3]\n",
    "    f[3]=-G*M/r/r/r*y[2]\n",
    "    return f\n",
    "    \n",
    "def eu(t, h, y, n):\n",
    "    # write Euler method\n",
    "        \n",
    "while(t<tend):\n",
    "    if((t+h)>tend):\n",
    "        h=tend-t\n",
    "    y = eu(t,h,y,4)\n",
    "    t = t+h\n",
    "    rate(50)\n",
    "    f1.plot(pos=(y[0],y[2]))\n",
    "    "
   ]
  },
  {
   "cell_type": "code",
   "execution_count": null,
   "metadata": {},
   "outputs": [],
   "source": [
    "import numpy as np\n",
    "import matplotlib.pyplot as plt\n",
    "\n",
    "G=1.\n",
    "M=1.\n",
    "tend=2.*np.pi\n",
    "h=0.001\n",
    "y=[1.,0.,0.,1.]\n",
    "t=0\n",
    "\n",
    "def f(t, y):\n",
    "    f=np.zeros(4)\n",
    "    r=np.sqrt(y[0]*y[0]+y[2]*y[2])\n",
    "    f[0]=y[1]\n",
    "    f[1]=-G*M/r/r/r*y[0]\n",
    "    f[2]=y[3]\n",
    "    f[3]=-G*M/r/r/r*y[2]\n",
    "    return f\n",
    "    \n",
    "def eu(t, h, y, n):\n",
    "    fv=f(t, y)\n",
    "    for i in range(n):\n",
    "        y[i]+=fv[i]*h\n",
    "    return y\n",
    "\n",
    "xp=[]\n",
    "yp=[]\n",
    "while(t<tend):\n",
    "    if((t+h)>tend):\n",
    "        h=tend-t\n",
    "    y = eu(t,h,y,4)\n",
    "    xp=np.append(xp,y[0])\n",
    "    yp=np.append(yp,y[2])\n",
    "    t = t+h\n",
    "\n",
    "plt.plot(xp,yp)\n",
    "plt.show()"
   ]
  },
  {
   "cell_type": "code",
   "execution_count": null,
   "metadata": {},
   "outputs": [],
   "source": [
    "import numpy as np\n",
    "import matplotlib.pyplot as plt\n",
    "fig = plt.figure()\n",
    "\n",
    "def f(t, y):\n",
    "    f=np.zeros(4)\n",
    "    r=np.sqrt(y[0]*y[0]+y[2]*y[2])\n",
    "    f[0]=y[1]\n",
    "    f[1]=-G*M/r/r/r*y[0]\n",
    "    f[2]=y[3]\n",
    "    f[3]=-G*M/r/r/r*y[2]\n",
    "    return f\n",
    "    \n",
    "def eu(t, h, y, n):\n",
    "    fv=f(t, y)\n",
    "    for i in range(n):\n",
    "        y[i]+=fv[i]*h\n",
    "    return y\n",
    "\n",
    "ha=[]\n",
    "err=[]\n",
    "for h in 10.**np.arange(-1.,-5.2,-0.2):\n",
    "    ha=np.append(ha,h)\n",
    "    G=1.\n",
    "    M=1.\n",
    "    tend=2.*np.pi\n",
    "    y=[1.,0.,0.,1.]\n",
    "    t=0\n",
    "    while(t<tend):\n",
    "        if((t+h)>tend):\n",
    "            h=tend-t\n",
    "        y = eu(t,h,y,4)\n",
    "        t = t+h\n",
    "    err=np.append(err,abs(y[0]-1.))\n",
    "\n",
    "plt.plot(ha,err)\n",
    "plt.xscale('log')\n",
    "plt.yscale('log')\n",
    "plt.show()"
   ]
  },
  {
   "cell_type": "markdown",
   "metadata": {},
   "source": [
    "### 2. Runge-Kutta Rule\n",
    "\n",
    "Based on integral\n",
    "\\begin{equation}\n",
    "{\\bf y}(t)=\\int {\\bf f}(t,y)dt\n",
    "\\end{equation}\n",
    "So\n",
    "\\begin{equation}\n",
    "{\\bf y}_{n+1}={\\bf y}_{n}+\\int_{t_{n}}^{t_{n+1}}{\\bf f}(t,y)dt\n",
    "\\end{equation}\n",
    "\n",
    "RK 2 is\n",
    "\\begin{equation}\n",
    "{\\bf y}_{n+1}\\simeq {\\bf y}_{n}+{\\bf f}(t_{n+1/2},y_{n+1/2})h+O(h^3)\n",
    "\\end{equation}\n",
    "and ${\\bf f}(t_{n+1/2},y_{n+1/2})$ is derived with Euler method.\n",
    "\\begin{eqnarray}\n",
    "{\\bf y}_{n+1}&\\simeq &{\\bf y}_{n}+{\\bf k_{2}}\\\\\n",
    "{\\bf k_{2}}&=&h {\\bf f}(t_{n}+h/2,{\\bf y}_{n}+\\frac{{\\bf k_{1}}}{2})\\qquad {\\bf k}_{1}=h{\\bf f}(t_n,{\\bf y}_{n})\n",
    "\\end{eqnarray}\n",
    "\n",
    "RK 4 is\n",
    "\\begin{eqnarray}\n",
    "{\\bf y}_{n+1}&\\simeq &{\\bf y}_{n}+\\frac{1}{6}({\\bf k_{1}}+2{\\bf k_{2}}+2{\\bf k_{3}}+{\\bf k_{4}})\\\\\n",
    "{\\bf k}_{1}&=&h{\\bf f}(t_n,{\\bf y}_{n})\\\\\n",
    "{\\bf k_{2}}&=&h {\\bf f}(t_{n}+h/2,{\\bf y}_{n}+\\frac{{\\bf k_{1}}}{2})\\\\\n",
    "{\\bf k_{3}}&=&h {\\bf f}(t_{n}+h/2,{\\bf y}_{n}+\\frac{{\\bf k_{2}}}{2})\\\\\n",
    "{\\bf k_{4}}&=&h {\\bf f}(t_{n}+h,{\\bf y}_{n}+{\\bf k_{3}})\n",
    "\\end{eqnarray}"
   ]
  },
  {
   "cell_type": "code",
   "execution_count": null,
   "metadata": {},
   "outputs": [],
   "source": [
    "import numpy as np\n",
    "import matplotlib.pyplot as plt\n",
    "\n",
    "G=1.\n",
    "M=1.\n",
    "tend=2.*np.pi\n",
    "h=0.001\n",
    "y=[1.,0.,0.,1.]\n",
    "t=0\n",
    "\n",
    "def f(t, y):\n",
    "    f=np.zeros(4)\n",
    "    r=np.sqrt(y[0]*y[0]+y[2]*y[2])\n",
    "    f[0]=y[1]\n",
    "    f[1]=-G*M/r/r/r*y[0]\n",
    "    f[2]=y[3]\n",
    "    f[3]=-G*M/r/r/r*y[2]\n",
    "    return f\n",
    "    \n",
    "def rk4(t, h, y, n):\n",
    "    k1 = np.zeros(n)\n",
    "    k2 = np.zeros(n)\n",
    "    k3 = np.zeros(n)\n",
    "    k4 = np.zeros(n)\n",
    "    k1=h*f(t,y)\n",
    "    k2=h*f(t+0.5*h,y+0.5*k1)\n",
    "    k3=h*f(t+0.5*h,y+0.5*k2)\n",
    "    k4=h*f(t+h,y+k3)\n",
    "    y+=(k1+2.*(k2+k3)+k4)/6.\n",
    "    return y\n",
    "\n",
    "xp=[]\n",
    "yp=[]\n",
    "while(t<tend):\n",
    "    if((t+h)>tend):\n",
    "        h=tend-t\n",
    "    y = rk4(t,h,y,4)\n",
    "    xp=np.append(xp,y[0])\n",
    "    yp=np.append(yp,y[2])\n",
    "    t = t+h\n",
    "\n",
    "plt.plot(xp,yp)\n",
    "plt.show()"
   ]
  },
  {
   "cell_type": "code",
   "execution_count": null,
   "metadata": {},
   "outputs": [],
   "source": [
    "import numpy as np\n",
    "import matplotlib.pyplot as plt\n",
    "fig = plt.figure()\n",
    "\n",
    "ha=[]\n",
    "err=[]\n",
    "for h in 10.**np.arange(0.,-4.2,-0.2):\n",
    "    ha=np.append(ha,h)\n",
    "    G=1.\n",
    "    M=1.\n",
    "    tend=2.*np.pi\n",
    "    y=[1.,0.,0.,1.]\n",
    "    t=0\n",
    "    while(t<tend):\n",
    "        if((t+h)>tend):\n",
    "            h=tend-t\n",
    "        y = rk4(t,h,y,4)\n",
    "        t = t+h\n",
    "    err=np.append(err,abs(y[0]-1.))\n",
    "\n",
    "plt.plot(ha,err)\n",
    "plt.xscale('log')\n",
    "plt.yscale('log')\n",
    "plt.show()"
   ]
  },
  {
   "cell_type": "code",
   "execution_count": 6,
   "metadata": {},
   "outputs": [
    {
     "data": {
      "image/png": "[encoded data removed]",
      "text/plain": [
       "<matplotlib.figure.Figure at 0x109173c50>"
      ]
     },
     "metadata": {},
     "output_type": "display_data"
    }
   ],
   "source": [
    "import numpy as np\n",
    "import matplotlib.pyplot as plt\n",
    "\n",
    "G=1.\n",
    "M=1.\n",
    "tend=2.*np.pi*50.\n",
    "h=0.2\n",
    "y=[1.,0.,0.,1.]\n",
    "t=0\n",
    "\n",
    "def f(t, y):\n",
    "    f=np.zeros(4)\n",
    "    r=np.sqrt(y[0]*y[0]+y[2]*y[2])\n",
    "    f[0]=y[1]\n",
    "    f[1]=-G*M/r/r/r*y[0]\n",
    "    f[2]=y[3]\n",
    "    f[3]=-G*M/r/r/r*y[2]\n",
    "    return f\n",
    "    \n",
    "def rk4(t, h, y, n):\n",
    "    k1 = np.zeros(n)\n",
    "    k2 = np.zeros(n)\n",
    "    k3 = np.zeros(n)\n",
    "    k4 = np.zeros(n)\n",
    "    k1=h*f(t,y)\n",
    "    k2=h*f(t+0.5*h,y+0.5*k1)\n",
    "    k3=h*f(t+0.5*h,y+0.5*k2)\n",
    "    k4=h*f(t+h,y+k3)\n",
    "    y+=(k1+2.*(k2+k3)+k4)/6.\n",
    "    return y\n",
    "\n",
    "xp=[]\n",
    "yp=[]\n",
    "ta=[]\n",
    "while(t<tend):\n",
    "    if((t+h)>tend):\n",
    "        h=tend-t\n",
    "    y = rk4(t,h,y,4)\n",
    "    xp=np.append(xp,y[0])\n",
    "    yp=np.append(yp,y[2])\n",
    "    ta=np.append(ta,t)\n",
    "    t = t+h\n",
    "\n",
    "plt.plot(xp,yp)\n",
    "plt.show()"
   ]
  },
  {
   "cell_type": "code",
   "execution_count": 7,
   "metadata": {
    "scrolled": true
   },
   "outputs": [
    {
     "data": {
      "image/png": "[encoded data removed]",
      "text/plain": [
       "<matplotlib.figure.Figure at 0x110ff1550>"
      ]
     },
     "metadata": {},
     "output_type": "display_data"
    }
   ],
   "source": [
    "plt.plot(ta,np.sqrt(xp*xp+yp*yp))\n",
    "plt.show()"
   ]
  },
  {
   "cell_type": "code",
   "execution_count": 9,
   "metadata": {},
   "outputs": [
    {
     "data": {
      "image/png": "[encoded data removed]",
      "text/plain": [
       "<matplotlib.figure.Figure at 0x1113c8780>"
      ]
     },
     "metadata": {},
     "output_type": "display_data"
    }
   ],
   "source": [
    "# plot the total energy\n",
    "plt.plot(ta,0.5*(y[1]*y[1]+y[2]*y[2])-1./np.sqrt(xp*xp+yp*yp))\n",
    "plt.show()"
   ]
  },
  {
   "cell_type": "markdown",
   "metadata": {},
   "source": [
    "### 3. Leap frog\n",
    "Drift-kick-drift method\n",
    "\n",
    "\\begin{eqnarray}\n",
    "\\frac{d x}{dt}=v_{x}\\\\\n",
    "\\frac{d v_{x}}{dt}=-\\frac{GM}{r^3}x\\\\\n",
    "\\frac{d y}{dt}=v_{y}\\\\\n",
    "\\frac{d v_{y}}{dt}=-\\frac{GM}{r^3}y\n",
    "\\end{eqnarray}\n",
    "into\n",
    "step 1:\n",
    "\\begin{eqnarray}\n",
    "\\frac{d x}{dt}&=&v_{x}\\qquad half \\; step\\\\\n",
    "\\frac{d y}{dt}&=&v_{y}\\\\\n",
    "\\end{eqnarray}\n",
    "step 2: (use the new half step x and y)\n",
    "\\begin{eqnarray}\n",
    "\\frac{d v_{x}}{dt}&=&-\\frac{GM}{r^3}x\\quad full\\; step\\\\\n",
    "\\frac{d v_{y}}{dt}=-\\frac{GM}{r^3}y\n",
    "\\end{eqnarray}\n",
    "Step 3: (use the new $v_{x}$ and $v_{y}$)\n",
    "\\begin{eqnarray}\n",
    "\\frac{d x}{dt}&=&v_{x}\\qquad half \\; step\\\\\n",
    "\\frac{d y}{dt}&=&v_{y}\n",
    "\\end{eqnarray}\n",
    "\n",
    "If we write the equations explicitly, we have \n",
    "step 1:\n",
    "\\begin{eqnarray}\n",
    "x_{n+1/2}&=&x_{n}+v_{x,n}dt/2\\qquad half \\; step\\\\\n",
    "y_{n+1/2}&=&y_{n}+v_{y,n}dt/2\\\\\n",
    "\\end{eqnarray}\n",
    "step 2: (use the new half step x and y)\n",
    "\\begin{eqnarray}\n",
    "v_{x,n+1}&=&v_{x,n}-\\frac{GM}{r_{n+1/2}^3}x_{n+1/2}dt\\quad full\\; step\\\\\n",
    "v_{y,n+1}&=&v_{y,n}-\\frac{GM}{r_{n+1/2}^3}y_{n+1/2}dt\n",
    "\\end{eqnarray}\n",
    "Step 3: (use the new $v_{x}$ and $v_{y}$)\n",
    "\\begin{eqnarray}\n",
    "x_{n+1}&=&x_{n+1/2}+v_{x,n+1}dt/2\\qquad half \\; step\\\\\n",
    "y_{n+1}&=&y_{n+1/2}+v_{y,n+1}dt/2\n",
    "\\end{eqnarray}\n",
    "\n",
    "### Symplectic Method:\n",
    "\n",
    "Symplectic integrators are designed for the numerical soluton of Hamilton's equations\n",
    "\\begin{eqnarray}\n",
    "\\dot{p}=-\\frac{\\partial H}{\\partial q}\\\\\n",
    "\\dot{q}=\\frac{\\partial H}{\\partial p}\n",
    "\\end{eqnarray}\n",
    "(q,p) are called canonical coordinates. \n",
    "\n",
    "The time evolution of Hamilton's equations conserves the dp^dq (Liouville's theorem).\n",
    "A numerical scheme is symplectic if it also conserves this quantity. \n",
    "\n",
    "From Sebastion Pingen:\n",
    "![iap.tu-darmstadt](http://www.iap.tu-darmstadt.de/typo3temp/pics/947b4bb383.png)\n",
    "\n",
    "The transformation from step n to step n+1 is\n",
    "\\begin{equation}\n",
    "\\left[ \\begin{array}{c} x_{n+1}\\\\p_{n+1} \\end{array} \\right] = J \\left[ \\begin{array}{c} x_{n}\\\\p_{n} \\end{array} \\right]\n",
    "\\end{equation}\n",
    "An area at n step is dA=dxdp, and the area at n+1 step is dA'=$|\\vec{de_{1}}\\times \\vec{de_{2}}|$\n",
    "\\begin{equation}\n",
    "\\vec{de_{1}}=\\left(\\frac{\\partial x'}{\\partial x}\\hat{x}+\\frac{\\partial p'}{\\partial x}\\hat{p}\\right)dx\n",
    "\\end{equation}\n",
    "\\begin{equation}\n",
    "\\vec{de_{2}}=\\left(\\frac{\\partial x'}{\\partial x}\\hat{x}+\\frac{\\partial p'}{\\partial x}\\hat{p}\\right)dp\n",
    "\\end{equation}\n",
    "The vector product can be represented as a determinant\n",
    "\n",
    "dA'=det J dA\n",
    "\n",
    "where\n",
    "\\begin{equation}\n",
    "J=\\begin{bmatrix}\\frac{\\partial x'}{\\partial x} & \\frac{\\partial x'}{\\partial p} \\\\\\frac{\\partial p'}{\\partial x} & \\frac{\\partial p'}{\\partial p} \\end{bmatrix}\n",
    "\\end{equation}\n"
   ]
  },
  {
   "cell_type": "code",
   "execution_count": 11,
   "metadata": {},
   "outputs": [
    {
     "data": {
      "image/png": "[encoded data removed]",
      "text/plain": [
       "<matplotlib.figure.Figure at 0x111512278>"
      ]
     },
     "metadata": {},
     "output_type": "display_data"
    }
   ],
   "source": [
    "import numpy as np\n",
    "import matplotlib.pyplot as plt\n",
    "\n",
    "G=1.\n",
    "M=1.\n",
    "tend=2.*np.pi*50.\n",
    "h=0.2\n",
    "y=[1.,0.,0.,1.]\n",
    "t=0\n",
    "\n",
    "def f(t, y):\n",
    "    f=np.zeros(4)\n",
    "    r=np.sqrt(y[0]*y[0]+y[2]*y[2])\n",
    "    f[0]=y[1]\n",
    "    f[1]=-G*M/r/r/r*y[0]\n",
    "    f[2]=y[3]\n",
    "    f[3]=-G*M/r/r/r*y[2]\n",
    "    return f\n",
    "    \n",
    "def lf(t, h, y, n):\n",
    "    fv=f(t, y)\n",
    "    for i in [0,2]:\n",
    "        y[i]+=fv[i]*h/2.\n",
    "    fv=f(t+0.5*h, y)\n",
    "    for i in [1,3]:\n",
    "        y[i]+=fv[i]*h\n",
    "    fv=f(t+0.5*h, y)\n",
    "    for i in [0,2]:\n",
    "        y[i]+=fv[i]*h/2\n",
    "    return y\n",
    "\n",
    "xp=[]\n",
    "yp=[]\n",
    "ta=[]\n",
    "while(t<tend):\n",
    "    if((t+h)>tend):\n",
    "        h=tend-t\n",
    "    y = lf(t,h,y,4)\n",
    "    xp=np.append(xp,y[0])\n",
    "    yp=np.append(yp,y[2])\n",
    "    ta=np.append(ta,t)\n",
    "    t = t+h\n",
    "\n",
    "plt.plot(xp,yp)\n",
    "plt.show()"
   ]
  },
  {
   "cell_type": "code",
   "execution_count": 3,
   "metadata": {},
   "outputs": [
    {
     "data": {
      "image/png": "[encoded data removed]",
      "text/plain": [
       "<matplotlib.figure.Figure at 0x107dcf198>"
      ]
     },
     "metadata": {},
     "output_type": "display_data"
    }
   ],
   "source": [
    "plt.plot(ta,np.sqrt(xp*xp+yp*yp))\n",
    "plt.show()"
   ]
  },
  {
   "cell_type": "code",
   "execution_count": 13,
   "metadata": {},
   "outputs": [],
   "source": [
    "# plot the total energy"
   ]
  },
  {
   "cell_type": "code",
   "execution_count": null,
   "metadata": {},
   "outputs": [],
   "source": []
  }
 ],
 "metadata": {
  "kernelspec": {
   "display_name": "Python 3",
   "language": "python",
   "name": "python3"
  },
  "language_info": {
   "codemirror_mode": {
    "name": "ipython",
    "version": 3
   },
   "file_extension": ".py",
   "mimetype": "text/x-python",
   "name": "python",
   "nbconvert_exporter": "python",
   "pygments_lexer": "ipython3",
   "version": "3.6.3"
  }
 },
 "nbformat": 4,
 "nbformat_minor": 2
}

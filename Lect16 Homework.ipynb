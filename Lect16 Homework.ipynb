{
 "cells": [
  {
   "cell_type": "markdown",
   "metadata": {},
   "source": [
    "## Homework:\n",
    "\n",
    "Highly nonlinear oscillator: \n",
    "\n",
    "Recall the numerical solution for oscillations of a spring with power p = 12 (use F=-0.01\\*y[0]\\**11). Decompose the solution into a Fourier series and determine the number of higher harmonics that contribute at least 10%; for example, determine the n for which |bn /b1 | < 0.1. Check that resuming the components reproduces the signal.\n",
    "(Landau 289)\n",
    "\n",
    "Warning: please only sample the data within one period\n",
    "\n",
    "Landau, Rubin H., Manuel Páez, Cristian Bordeianu. Computational Physics: Problem Solving with Python, 3rd Edition. Wiley-Blackwell, 2015-07-15. VitalBook file."
   ]
  },
  {
   "cell_type": "code",
   "execution_count": 1,
   "metadata": {},
   "outputs": [
    {
     "data": {
      "image/png": "[encoded data removed]",
      "text/plain": [
       "<Figure size 432x288 with 1 Axes>"
      ]
     },
     "metadata": {},
     "output_type": "display_data"
    }
   ],
   "source": [
    "# Let's first try linear force  Fx=-0.01*x\n",
    "\n",
    "\"\"\" From \"COMPUTATIONAL PHYSICS\", 3rd Ed, Enlarged Python eTextBook  \n",
    "    by RH Landau, MJ Paez, and CC Bordeianu\n",
    "    Copyright Wiley-VCH Verlag GmbH & Co. KGaA, Berlin;  Copyright R Landau,\n",
    "    Oregon State Unv, MJ Paez, Univ Antioquia, C Bordeianu, Univ Bucharest, 2015.\n",
    "    Support by National Science Foundation\"\"\"\n",
    "\n",
    "# rk4.py 4th order Runge Kutta\n",
    "\t\t \n",
    "%matplotlib inline\n",
    "import matplotlib.pylab as p\n",
    "import numpy as np\n",
    "\n",
    "#   Initialization\n",
    "a = 0.0\n",
    "b = 0.43725\n",
    "n = 1000                                         \n",
    "ydumb = np.zeros((2), float);    y = np.zeros((2), float)\n",
    "fReturn = np.zeros((2), float);  k1 = np.zeros((2), float)\n",
    "k2 = np.zeros((2), float);       k3 = np.zeros((2), float) \n",
    "k4 = np.zeros((2), float)\n",
    "y[0] = 3.;   y[1] = -5.\n",
    "t = a;       h = (b-a)/n;\n",
    "xp=np.array([0.0])\n",
    "yp=np.array([y[0]])\n",
    "\n",
    "def f( t, y):                                           # Force function \n",
    "    fReturn[0] = y[1]                                            \n",
    "    fReturn[1] = -0.01*y[0]**11      \n",
    "    return fReturn\n",
    "\n",
    "def rk4(t,h,n):                 \n",
    "    k1 = [0]*(n)\n",
    "    k2 = [0]*(n)\n",
    "    k3 = [0]*(n)\n",
    "    k4 = [0]*(n)\n",
    "    fR = [0]*(n)\n",
    "    ydumb = [0]*(n)\n",
    "    fR = f(t, y)                                            # Returns RHS's  \n",
    "    for i in range(0, n):\n",
    "       k1[i] = h*fR[i]                             \n",
    "    for i in range(0, n):\n",
    "        ydumb[i] = y[i] + k1[i]/2. \n",
    "    k2 = h*f(t+h/2., ydumb) \n",
    "    for i in range(0, n):\n",
    "        ydumb[i] = y[i] + k2[i]/2. \n",
    "    k3 = h*f(t+h/2., ydumb)\n",
    "    for i in range(0, n):\n",
    "        ydumb[i] = y[i] + k3[i] \n",
    "    k4 = h*f(t+h, ydumb) \n",
    "    for i in range(0, 2):\n",
    "        y[i] = y[i] + (k1[i] + 2.*(k2[i] + k3[i]) + k4[i])/6.\n",
    "    return y    \n",
    "\n",
    "while (t < b):                                              # Time loop\n",
    "    if ((t + h) > b):\n",
    "        h = b - t                                           # Last step\n",
    "    y = rk4(t,h,2)\n",
    "    t = t + h\n",
    "    xp=np.append(xp, t)\n",
    "    yp=np.append(yp,y[0])\n",
    "    \n",
    "p.plot(xp,yp)\n",
    "p.show()"
   ]
  },
  {
   "cell_type": "markdown",
   "metadata": {},
   "source": [
    "The Coefficents are determined by integrating the fourier series cos and sin with the function over the time period, which is about 0.435 for the given force and initial conditions. I'll do a simple riemann sum and show that this gives an accurate result."
   ]
  },
  {
   "cell_type": "code",
   "execution_count": 2,
   "metadata": {},
   "outputs": [
    {
     "data": {
      "text/plain": [
       "array([3.        , 2.99764488, 2.99495402, ..., 2.99475123, 2.9974657 ,\n",
       "       2.99984465])"
      ]
     },
     "execution_count": 2,
     "metadata": {},
     "output_type": "execute_result"
    }
   ],
   "source": [
    "yp"
   ]
  },
  {
   "cell_type": "code",
   "execution_count": 3,
   "metadata": {},
   "outputs": [],
   "source": [
    "T = (b-a)\n",
    "dx = (b-a)/n\n",
    "def an(n):\n",
    "   a = yp*np.cos(2*n*np.pi*xp/T)\n",
    "   return a.sum()*2*dx/(T)\n",
    "\n",
    "def bn(n):\n",
    "   b = yp*np.sin(2*n*np.pi*xp/T)\n",
    "   return b.sum()*2*dx/(T)\n",
    "\n"
   ]
  },
  {
   "cell_type": "markdown",
   "metadata": {},
   "source": [
    "Looking at the coefficents for the sin and cos series from 1 to 10, we see that it is mostly concentrated at the low frequency "
   ]
  },
  {
   "cell_type": "code",
   "execution_count": 4,
   "metadata": {},
   "outputs": [
    {
     "data": {
      "text/plain": [
       "[2.6327328953825835,\n",
       " 0.013102111919128506,\n",
       " 0.25990559007916275,\n",
       " 0.012043180873216713,\n",
       " 0.07641267984330037,\n",
       " 0.010719667529545007,\n",
       " 0.031392474961230765,\n",
       " 0.009483268611536512,\n",
       " 0.01647540735052633]"
      ]
     },
     "execution_count": 4,
     "metadata": {},
     "output_type": "execute_result"
    }
   ],
   "source": [
    "[an(i) for i in range(1,10)]"
   ]
  },
  {
   "cell_type": "code",
   "execution_count": 5,
   "metadata": {},
   "outputs": [
    {
     "data": {
      "text/plain": [
       "[0.0005831870897964677,\n",
       " 3.1533144137938507e-06,\n",
       " 0.00016911555080656627,\n",
       " 5.365782475337255e-06,\n",
       " 7.816371463266593e-05,\n",
       " 6.285481885072386e-06,\n",
       " 3.946146831299302e-05,\n",
       " 6.184553514515301e-06,\n",
       " 2.0929165323920527e-05]"
      ]
     },
     "execution_count": 5,
     "metadata": {},
     "output_type": "execute_result"
    }
   ],
   "source": [
    "[bn(i) for i in range(1,10)]"
   ]
  },
  {
   "cell_type": "markdown",
   "metadata": {},
   "source": [
    "The cosine series is mostly concenrated on n = 1 juding by how all the higher frequencies contains less than 10 percent"
   ]
  },
  {
   "cell_type": "code",
   "execution_count": 6,
   "metadata": {},
   "outputs": [
    {
     "data": {
      "text/plain": [
       "[0.004976620280054856,\n",
       " 0.09872083511965758,\n",
       " 0.004574402855047938,\n",
       " 0.029024091269310565,\n",
       " 0.004071688224941348,\n",
       " 0.011923911846996873,\n",
       " 0.0036020625670643365,\n",
       " 0.006257910697823433]"
      ]
     },
     "execution_count": 6,
     "metadata": {},
     "output_type": "execute_result"
    }
   ],
   "source": [
    "[an(n)/an(1) for n in range(2,10)]"
   ]
  },
  {
   "cell_type": "markdown",
   "metadata": {},
   "source": [
    "The sin series n = 3 and n = 5 contains more than percent of the n = 1 coefficent, while the rest is neglibile"
   ]
  },
  {
   "cell_type": "code",
   "execution_count": 7,
   "metadata": {},
   "outputs": [
    {
     "data": {
      "text/plain": [
       "[0.005407037413832939,\n",
       " 0.28998507299876547,\n",
       " 0.009200790911214982,\n",
       " 0.1340285407551547,\n",
       " 0.010777813835464053,\n",
       " 0.06766519527509615,\n",
       " 0.010604750384089796,\n",
       " 0.035887566254638466]"
      ]
     },
     "execution_count": 7,
     "metadata": {},
     "output_type": "execute_result"
    }
   ],
   "source": [
    "[bn(n)/bn(1) for n in range(2,10)]"
   ]
  },
  {
   "cell_type": "markdown",
   "metadata": {},
   "source": [
    "We can check that the coeffficents are good by seeing if the resultant fourier series matches up with the original function"
   ]
  },
  {
   "cell_type": "code",
   "execution_count": 8,
   "metadata": {},
   "outputs": [],
   "source": [
    "def f(n):\n",
    "    a = np.array([an(i)*np.cos(2*i*np.pi*xp/T) for i in range(1,n)]).sum(axis = 0)\n",
    "    b = np.array([bn(i)*np.sin(2*i*np.pi*xp/T) for i in range(1,n)]).sum(axis = 0)\n",
    "    a0 = yp.sum()*dx/T\n",
    "    return a0 + a + b"
   ]
  },
  {
   "cell_type": "code",
   "execution_count": 9,
   "metadata": {},
   "outputs": [
    {
     "data": {
      "text/plain": [
       "[<matplotlib.lines.Line2D at 0x25f2f4735f8>]"
      ]
     },
     "execution_count": 9,
     "metadata": {},
     "output_type": "execute_result"
    },
    {
     "data": {
      "image/png": "[encoded data removed]",
      "text/plain": [
       "<Figure size 432x288 with 1 Axes>"
      ]
     },
     "metadata": {},
     "output_type": "display_data"
    }
   ],
   "source": [
    "p.plot(xp,f(10))"
   ]
  },
  {
   "cell_type": "code",
   "execution_count": 10,
   "metadata": {},
   "outputs": [
    {
     "data": {
      "text/plain": [
       "[<matplotlib.lines.Line2D at 0x25f2d36a9e8>]"
      ]
     },
     "execution_count": 10,
     "metadata": {},
     "output_type": "execute_result"
    },
    {
     "data": {
      "image/png": "[encoded data removed]",
      "text/plain": [
       "<Figure size 432x288 with 1 Axes>"
      ]
     },
     "metadata": {},
     "output_type": "display_data"
    }
   ],
   "source": [
    "p.plot(xp,f(10))\n",
    "p.plot(xp,yp)"
   ]
  },
  {
   "cell_type": "markdown",
   "metadata": {},
   "source": [
    "They match up almost perfectly!"
   ]
  }
 ],
 "metadata": {
  "kernelspec": {
   "display_name": "Python 3",
   "language": "python",
   "name": "python3"
  },
  "language_info": {
   "codemirror_mode": {
    "name": "ipython",
    "version": 3
   },
   "file_extension": ".py",
   "mimetype": "text/x-python",
   "name": "python",
   "nbconvert_exporter": "python",
   "pygments_lexer": "ipython3",
   "version": "3.6.4"
  }
 },
 "nbformat": 4,
 "nbformat_minor": 2
}

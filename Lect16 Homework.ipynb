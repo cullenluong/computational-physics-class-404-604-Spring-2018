{
 "cells": [
  {
   "cell_type": "markdown",
   "metadata": {},
   "source": [
    "## Homework:\n",
    "\n",
    "Highly nonlinear oscillator: \n",
    "\n",
    "Recall the numerical solution for oscillations of a spring with power p = 12 (use F=-0.01\\*y[0]\\**11). Decompose the solution into a Fourier series and determine the number of higher harmonics that contribute at least 10%; for example, determine the n for which |bn /b1 | < 0.1. Check that resuming the components reproduces the signal.\n",
    "(Landau 289)\n",
    "\n",
    "Warning: please only sample the data within one period\n",
    "\n",
    "Landau, Rubin H., Manuel Páez, Cristian Bordeianu. Computational Physics: Problem Solving with Python, 3rd Edition. Wiley-Blackwell, 2015-07-15. VitalBook file."
   ]
  },
  {
   "cell_type": "code",
   "execution_count": 21,
   "metadata": {},
   "outputs": [
    {
     "data": {
      "image/png": "[encoded data removed]",
      "text/plain": [
       "<Figure size 432x288 with 1 Axes>"
      ]
     },
     "metadata": {},
     "output_type": "display_data"
    }
   ],
   "source": [
    "# Let's first try linear force  Fx=-0.01*x\n",
    "\n",
    "\"\"\" From \"COMPUTATIONAL PHYSICS\", 3rd Ed, Enlarged Python eTextBook  \n",
    "    by RH Landau, MJ Paez, and CC Bordeianu\n",
    "    Copyright Wiley-VCH Verlag GmbH & Co. KGaA, Berlin;  Copyright R Landau,\n",
    "    Oregon State Unv, MJ Paez, Univ Antioquia, C Bordeianu, Univ Bucharest, 2015.\n",
    "    Support by National Science Foundation\"\"\"\n",
    "\n",
    "# rk4.py 4th order Runge Kutta\n",
    "\t\t \n",
    "%matplotlib inline\n",
    "import matplotlib.pylab as p\n",
    "import numpy as np\n",
    "\n",
    "#   Initialization\n",
    "a = 0.0\n",
    "b = 0.435\n",
    "n = 1000                                         \n",
    "ydumb = np.zeros((2), float);    y = np.zeros((2), float)\n",
    "fReturn = np.zeros((2), float);  k1 = np.zeros((2), float)\n",
    "k2 = np.zeros((2), float);       k3 = np.zeros((2), float) \n",
    "k4 = np.zeros((2), float)\n",
    "y[0] = 3.;   y[1] = -5.\n",
    "t = a;       h = (b-a)/n;\n",
    "xp=np.array([0.0])\n",
    "yp=np.array([y[0]])\n",
    "\n",
    "def f( t, y):                                           # Force function \n",
    "    fReturn[0] = y[1]                                            \n",
    "    fReturn[1] = -0.01*y[0]**11      \n",
    "    return fReturn\n",
    "\n",
    "def rk4(t,h,n):                 \n",
    "    k1 = [0]*(n)\n",
    "    k2 = [0]*(n)\n",
    "    k3 = [0]*(n)\n",
    "    k4 = [0]*(n)\n",
    "    fR = [0]*(n)\n",
    "    ydumb = [0]*(n)\n",
    "    fR = f(t, y)                                            # Returns RHS's  \n",
    "    for i in range(0, n):\n",
    "       k1[i] = h*fR[i]                             \n",
    "    for i in range(0, n):\n",
    "        ydumb[i] = y[i] + k1[i]/2. \n",
    "    k2 = h*f(t+h/2., ydumb) \n",
    "    for i in range(0, n):\n",
    "        ydumb[i] = y[i] + k2[i]/2. \n",
    "    k3 = h*f(t+h/2., ydumb)\n",
    "    for i in range(0, n):\n",
    "        ydumb[i] = y[i] + k3[i] \n",
    "    k4 = h*f(t+h, ydumb) \n",
    "    for i in range(0, 2):\n",
    "        y[i] = y[i] + (k1[i] + 2.*(k2[i] + k3[i]) + k4[i])/6.\n",
    "    return y    \n",
    "\n",
    "while (t < b):                                              # Time loop\n",
    "    if ((t + h) > b):\n",
    "        h = b - t                                           # Last step\n",
    "    y = rk4(t,h,2)\n",
    "    t = t + h\n",
    "    xp=np.append(xp, t)\n",
    "    yp=np.append(yp,y[0])\n",
    "    \n",
    "p.plot(xp,yp)\n",
    "p.show()"
   ]
  },
  {
   "cell_type": "markdown",
   "metadata": {},
   "source": [
    "The Coefficents are determined by integrating the fourier series cos and sin with the function over the time period.I'll do a simple riemann sum and show that this gives an accurate reult."
   ]
  },
  {
   "cell_type": "code",
   "execution_count": 22,
   "metadata": {},
   "outputs": [],
   "source": [
    "T = (b-a)\n",
    "dx = (b-a)/n\n",
    "def an(n):\n",
    "   a = yp*np.cos(2*n*np.pi*xp/T)\n",
    "   return a.sum()*2*dx/(T)\n",
    "\n",
    "def bn(n):\n",
    "   b = yp*np.sin(2*n*np.pi*xp/T)\n",
    "   return b.sum()*2*dx/(T)\n",
    "\n"
   ]
  },
  {
   "cell_type": "code",
   "execution_count": 23,
   "metadata": {},
   "outputs": [],
   "source": [
    "def f(n):\n",
    "    a = np.array([an(i)*np.cos(2*i*np.pi*xp/T) for i in range(1,n)]).sum(axis = 0)\n",
    "    b = np.array([bn(i)*np.sin(2*i*np.pi*xp/T) for i in range(1,n)]).sum(axis = 0)\n",
    "    a0 = yp.sum()*dx/T\n",
    "    return a0 + a + b"
   ]
  },
  {
   "cell_type": "code",
   "execution_count": 24,
   "metadata": {},
   "outputs": [
    {
     "data": {
      "text/plain": [
       "0.6552218199359644"
      ]
     },
     "execution_count": 24,
     "metadata": {},
     "output_type": "execute_result"
    }
   ],
   "source": [
    "h*(yp*np.cos(2*1*np.pi*xp/T)).sum()/(2*T)"
   ]
  },
  {
   "cell_type": "code",
   "execution_count": 25,
   "metadata": {},
   "outputs": [
    {
     "data": {
      "text/plain": [
       "[2.6208872797795317,\n",
       " 0.01554078240644975,\n",
       " 0.26014889126797297,\n",
       " 0.01411808443346166,\n",
       " 0.0773904909388008,\n",
       " 0.012341292698107425,\n",
       " 0.03235450939482774,\n",
       " 0.01068260306239449,\n",
       " 0.017276298719894886]"
      ]
     },
     "execution_count": 25,
     "metadata": {},
     "output_type": "execute_result"
    }
   ],
   "source": [
    "[an(i) for i in range(1,10)]"
   ]
  },
  {
   "cell_type": "code",
   "execution_count": 26,
   "metadata": {},
   "outputs": [
    {
     "data": {
      "text/plain": [
       "[0.04307814379582482,\n",
       " 0.000313980544610331,\n",
       " 0.012569164303014985,\n",
       " 0.0005347640752275424,\n",
       " 0.00589218071633934,\n",
       " 0.000627416055672029,\n",
       " 0.003050847259735633,\n",
       " 0.0006188279182118208,\n",
       " 0.0016820359315213977]"
      ]
     },
     "execution_count": 26,
     "metadata": {},
     "output_type": "execute_result"
    }
   ],
   "source": [
    "[bn(i) for i in range(1,10)]"
   ]
  },
  {
   "cell_type": "code",
   "execution_count": 27,
   "metadata": {},
   "outputs": [
    {
     "data": {
      "text/plain": [
       "[0.007288627525329035,\n",
       " 0.29177590294020983,\n",
       " 0.01241381424794288,\n",
       " 0.1367788905730524,\n",
       " 0.014564602844675933,\n",
       " 0.07082123301773564,\n",
       " 0.014365241017459954,\n",
       " 0.039046156201475474,\n",
       " 0.012967163485418251,\n",
       " 0.023327582698811206,\n",
       " 0.011258802531404323,\n",
       " 0.015357594026144034,\n",
       " 0.009676210914278973,\n",
       " 0.011125397023131117,\n",
       " 0.00835337202851468,\n",
       " 0.008722749559971163,\n",
       " 0.007290053407810471,\n",
       " 0.007245716694654334]"
      ]
     },
     "execution_count": 27,
     "metadata": {},
     "output_type": "execute_result"
    }
   ],
   "source": [
    "[bn(i)/bn(1) for i in range(2,20)]"
   ]
  },
  {
   "cell_type": "code",
   "execution_count": 28,
   "metadata": {},
   "outputs": [
    {
     "data": {
      "text/plain": [
       "[0.005929588245304864,\n",
       " 0.09925985496402448,\n",
       " 0.005386757584877618,\n",
       " 0.02952835535350107,\n",
       " 0.004708822387487634,\n",
       " 0.012344868718485823,\n",
       " 0.004075949066872158,\n",
       " 0.00659177479824625]"
      ]
     },
     "execution_count": 28,
     "metadata": {},
     "output_type": "execute_result"
    }
   ],
   "source": [
    "[an(i)/an(1) for i in range(2,10)]"
   ]
  },
  {
   "cell_type": "code",
   "execution_count": 29,
   "metadata": {},
   "outputs": [
    {
     "data": {
      "text/plain": [
       "(array([1, 3], dtype=int64),)"
      ]
     },
     "execution_count": 29,
     "metadata": {},
     "output_type": "execute_result"
    }
   ],
   "source": [
    "np.where(np.array([bn(i)/bn(1) for i in range(2,20)])>0.1)"
   ]
  },
  {
   "cell_type": "code",
   "execution_count": 35,
   "metadata": {},
   "outputs": [
    {
     "data": {
      "text/plain": [
       "[<matplotlib.lines.Line2D at 0x2aa8bda10f0>]"
      ]
     },
     "execution_count": 35,
     "metadata": {},
     "output_type": "execute_result"
    },
    {
     "data": {
      "image/png": "[encoded data removed]",
      "text/plain": [
       "<Figure size 432x288 with 1 Axes>"
      ]
     },
     "metadata": {},
     "output_type": "display_data"
    }
   ],
   "source": [
    "p.plot(xp,f(10))"
   ]
  },
  {
   "cell_type": "code",
   "execution_count": 34,
   "metadata": {},
   "outputs": [
    {
     "data": {
      "text/plain": [
       "[<matplotlib.lines.Line2D at 0x2aa8c29fac8>]"
      ]
     },
     "execution_count": 34,
     "metadata": {},
     "output_type": "execute_result"
    },
    {
     "data": {
      "image/png": "[encoded data removed]",
      "text/plain": [
       "<Figure size 432x288 with 1 Axes>"
      ]
     },
     "metadata": {},
     "output_type": "display_data"
    }
   ],
   "source": [
    "p.plot(xp,f(10))\n",
    "p.plot(xp,yp)"
   ]
  },
  {
   "cell_type": "code",
   "execution_count": null,
   "metadata": {},
   "outputs": [],
   "source": []
  },
  {
   "cell_type": "code",
   "execution_count": null,
   "metadata": {},
   "outputs": [],
   "source": []
  }
 ],
 "metadata": {
  "kernelspec": {
   "display_name": "Python 3",
   "language": "python",
   "name": "python3"
  },
  "language_info": {
   "codemirror_mode": {
    "name": "ipython",
    "version": 3
   },
   "file_extension": ".py",
   "mimetype": "text/x-python",
   "name": "python",
   "nbconvert_exporter": "python",
   "pygments_lexer": "ipython3",
   "version": "3.6.4"
  }
 },
 "nbformat": 4,
 "nbformat_minor": 2
}

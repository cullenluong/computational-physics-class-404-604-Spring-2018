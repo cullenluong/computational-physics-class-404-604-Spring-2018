{
 "cells": [
  {
   "cell_type": "markdown",
   "metadata": {},
   "source": [
    "## Newton-Raphson for equations\n",
    "Find the solution for  \n",
    "\\begin{eqnarray}\n",
    "x_{1}^2+x_{1}x_{2}=10\\\\\n",
    "x_{2}+3x_{1}x_{2}^2=57\n",
    "\\end{eqnarray}"
   ]
  },
  {
   "cell_type": "code",
   "execution_count": 45,
   "metadata": {},
   "outputs": [
    {
     "data": {
      "text/plain": [
       "[<matplotlib.lines.Line2D at 0x2bc7acc4a90>]"
      ]
     },
     "execution_count": 45,
     "metadata": {},
     "output_type": "execute_result"
    },
    {
     "data": {
      "image/png": "[encoded data removed]",
      "text/plain": [
       "<matplotlib.figure.Figure at 0x2bc7ab80198>"
      ]
     },
     "metadata": {},
     "output_type": "display_data"
    }
   ],
   "source": [
    "## Always a good idea to draw the function first\n",
    "%matplotlib inline\n",
    "import matplotlib.pyplot as plt\n",
    "import numpy as np\n",
    "\n",
    "def f1(x):\n",
    "    return (10.-x*x)/x\n",
    "\n",
    "def f2(x):\n",
    "    return (-1+np.sqrt(1.+4.*3.*x*57))/6./x\n",
    "\n",
    "x = np.linspace(0.1,3,100)\n",
    "y1 = [f1(i) for i in x]\n",
    "y2 = [f2(i) for i in x]\n",
    "plt.ylim( (0, 10))\n",
    "plt.plot(x,y1)\n",
    "plt.plot(x,y2)\n",
    "## Draw graphics to roughly determine x1 and x2"
   ]
  },
  {
   "cell_type": "markdown",
   "metadata": {},
   "source": [
    "It looks like they cross at 2 and 3 ( which it actually is)"
   ]
  },
  {
   "cell_type": "code",
   "execution_count": 7,
   "metadata": {},
   "outputs": [],
   "source": [
    "def F(x,f):\n",
    "    f[0]=x[0]*x[0]+x[0]*x[1]-10.\n",
    "    f[1]=x[1]+3.*x[0]*x[1]*x[1]-57.\n",
    "    \n",
    "    \n",
    "def dF(x,df):\n",
    "    df[0,0]=x[0]*2.+x[1]\n",
    "    df[0,1] = x[0]\n",
    "    df[1,0]=3.*x[1]*x[1]\n",
    "    df[1,1] = 1+6.*x[0]*x[1]"
   ]
  },
  {
   "cell_type": "code",
   "execution_count": 58,
   "metadata": {},
   "outputs": [],
   "source": [
    "def newtonraphson(x0,Nmax):\n",
    "    f = np.zeros(2)\n",
    "    df = np.zeros([2,2])\n",
    "    for i in range(0,Nmax):\n",
    "        dF(x0,df)\n",
    "        F(x0,f)\n",
    "        dx = - np.dot(np.linalg.inv(df),f)\n",
    "        x0 = x0 +dx\n",
    "        print(x0)\n",
    "    return x0"
   ]
  },
  {
   "cell_type": "markdown",
   "metadata": {},
   "source": [
    "It converges very rapidly as long as you don't set both initial solutions to 0 since you cant invert the resulting matrix"
   ]
  },
  {
   "cell_type": "code",
   "execution_count": 50,
   "metadata": {},
   "outputs": [
    {
     "name": "stdout",
     "output_type": "stream",
     "text": [
      "[ 0.79933848 18.48224917]\n",
      "[0.94083696 8.15629116]\n",
      "[1.63868279 2.24254983]\n",
      "[1.97699388 3.32417605]\n",
      "[1.9946109  3.01633491]\n",
      "[1.99998927 3.0000081 ]\n",
      "[2. 3.]\n",
      "[2. 3.]\n",
      "[2. 3.]\n",
      "[2. 3.]\n"
     ]
    }
   ],
   "source": [
    "x0 = np.array([0.5,0.7])\n",
    "x0 = newtonraphson(x0,10)"
   ]
  },
  {
   "cell_type": "code",
   "execution_count": 51,
   "metadata": {},
   "outputs": [
    {
     "name": "stdout",
     "output_type": "stream",
     "text": [
      "[4.76010966 1.846573  ]\n",
      "[2.65501478 2.36749427]\n",
      "[2.03888905 2.89309744]\n",
      "[1.99956085 3.00020418]\n",
      "[2.00000003 2.99999994]\n",
      "[2. 3.]\n",
      "[2. 3.]\n",
      "[2. 3.]\n",
      "[2. 3.]\n",
      "[2. 3.]\n"
     ]
    }
   ],
   "source": [
    "x0 = np.array([10,0.7])\n",
    "x0 = newtonraphson(x0,10)"
   ]
  },
  {
   "cell_type": "code",
   "execution_count": 54,
   "metadata": {},
   "outputs": [
    {
     "name": "stdout",
     "output_type": "stream",
     "text": [
      "[40.0401532  79.97954041]\n",
      "[13.43576881 66.56018043]\n",
      "[ 3.16739851 58.71428772]\n",
      "[ 0.5609818  53.51792894]\n",
      "[ 0.36762077 36.09836398]\n",
      "[ 0.52818198 10.74696233]\n",
      "[ 1.45556127 -2.31953485]\n",
      "[9.16454727 2.28145682]\n",
      "[4.62158836 2.14347317]\n",
      "[2.62897432 2.45156397]\n",
      "[2.0410332  2.89893797]\n",
      "[1.99966676 2.99993296]\n",
      "[2.00000002 3.        ]\n",
      "[2. 3.]\n",
      "[2. 3.]\n",
      "[2. 3.]\n",
      "[2. 3.]\n",
      "[2. 3.]\n",
      "[2. 3.]\n",
      "[2. 3.]\n"
     ]
    }
   ],
   "source": [
    "x0 = np.array([100,100])\n",
    "x0 = newtonraphson(x0,20)"
   ]
  },
  {
   "cell_type": "code",
   "execution_count": 60,
   "metadata": {},
   "outputs": [
    {
     "name": "stdout",
     "output_type": "stream",
     "text": [
      "[  0.125 -10.125]\n",
      "[  -2.79082754 -150.47537532]\n",
      "[  -0.22286466 -144.38726063]\n",
      "[ -0.1408128  -97.97043463]\n",
      "[ -0.20621845 -25.23869558]\n",
      "[-0.78734067 23.99867247]\n",
      "[ 1.00686244 39.18646775]\n",
      "[ 0.50431726 29.48882086]\n",
      "[ 0.63459927 11.44595819]\n",
      "[1.36987681 0.39097833]\n",
      "[-2.18930407 14.06424188]\n",
      "[ 5.46086334 31.46651611]\n",
      "[ 1.48802308 27.20827821]\n",
      "[ 0.72328079 20.74498518]\n",
      "[0.85771022 8.97807316]\n",
      "[1.56567932 1.97464143]\n",
      "[1.92953468 3.63471799]\n",
      "[1.98175458 3.05025413]\n",
      "[1.99991004 3.00002369]\n",
      "[2. 3.]\n",
      "[2. 3.]\n",
      "[2. 3.]\n",
      "[2. 3.]\n",
      "[2. 3.]\n",
      "[2. 3.]\n",
      "[2. 3.]\n",
      "[2. 3.]\n",
      "[2. 3.]\n",
      "[2. 3.]\n",
      "[2. 3.]\n"
     ]
    }
   ],
   "source": [
    "x0 = np.array([-1,1])\n",
    "x0 = newtonraphson(x0,30)"
   ]
  },
  {
   "cell_type": "code",
   "execution_count": null,
   "metadata": {},
   "outputs": [],
   "source": []
  }
 ],
 "metadata": {
  "kernelspec": {
   "display_name": "Python 3",
   "language": "python",
   "name": "python3"
  },
  "language_info": {
   "codemirror_mode": {
    "name": "ipython",
    "version": 3
   },
   "file_extension": ".py",
   "mimetype": "text/x-python",
   "name": "python",
   "nbconvert_exporter": "python",
   "pygments_lexer": "ipython3",
   "version": "3.6.3"
  }
 },
 "nbformat": 4,
 "nbformat_minor": 2
}

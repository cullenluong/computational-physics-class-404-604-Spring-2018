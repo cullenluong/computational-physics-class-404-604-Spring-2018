{
 "cells": [
  {
   "cell_type": "markdown",
   "metadata": {},
   "source": [
    "# Homework\n",
    "\n",
    "Merging compact objects produces a chirp signal in the gravitational wave detector.\n",
    "Assume the chirp signal is \n",
    "\\begin{equation}\n",
    "y(t)=\\begin{cases} sin(t^2) \\quad 0<t<15 \\\\\n",
    "0 \\quad else\\\\\n",
    "\\end{cases}\n",
    "\\end{equation}\n",
    "\n",
    "Please do wavelet transform to show the chirp signal is similar to the one you have seen\n",
    "online. (Notice that the figure online has time as x-axis and frequency as the y-axis)\n",
    "(You are welcome to use any wavelet you prefer.)\n"
   ]
  },
  {
   "cell_type": "code",
   "execution_count": 1,
   "metadata": {},
   "outputs": [],
   "source": [
    "import numpy as np\n",
    "def y(t):\n",
    "    if t <15 and t> 0:\n",
    "        return np.sin(t*t)\n",
    "    else:\n",
    "        return 0."
   ]
  },
  {
   "cell_type": "code",
   "execution_count": 2,
   "metadata": {},
   "outputs": [],
   "source": [
    "# Using Morlet Wavelet\n",
    "%matplotlib inline\n",
    "import matplotlib.pyplot as plt\n",
    "from numpy import *\n",
    "\n",
    "ns=600\n",
    "ntau=300\n",
    "\n",
    "dstep=6./ns\n",
    "sa = 0.001\n",
    "sb = 6.001\n",
    "sar=arange(sa+2*dstep,sb,dstep)\n",
    "dtaustep=25./ntau\n",
    "tauar=arange(0.,25.,dtaustep)\n",
    "ystau=zeros((ns-2, ntau),complex)\n",
    "\n",
    "tend = 20.\n",
    "nt=600\n",
    "dtstep=tend/nt\n",
    "tar=arange(0.,tend,dtstep)\n",
    "\n",
    "\n",
    "def mex(t):\n",
    "    return (1-t*t)*exp(-t*t/2.)\n",
    "    \n",
    "def morlet(t,sigma):\n",
    "    psi=exp(2.*pi*t*1j)*exp(-t*t/2./sigma/sigma)\n",
    "    return psi\n",
    "def func(t):\n",
    "    return morlet(t,1.)\n",
    "yarr=zeros(nt)\n",
    "def wavelet():     \n",
    "    for idext in range(nt):\n",
    "        yarr[idext]=y(tar[idext])\n",
    "    for idexs in range(ns-2):\n",
    "        for idextau in range(ntau):\n",
    "            ystau[idexs,idextau]=1./sqrt(sar[idexs])*sum(conjugate(func((tar-tauar[idextau])/sar[idexs]))*yarr)*dtstep\n",
    "\n",
    "wavelet()"
   ]
  },
  {
   "cell_type": "code",
   "execution_count": 3,
   "metadata": {},
   "outputs": [],
   "source": [
    "ystau = np.flip(ystau,axis = 0)\n",
    "ys = np.abs(ystau)**2\n",
    "freq = np.flip(2*np.pi/sar,axis = 0)"
   ]
  },
  {
   "cell_type": "code",
   "execution_count": 4,
   "metadata": {},
   "outputs": [],
   "source": [
    "X,Y = np.meshgrid(tauar,freq)"
   ]
  },
  {
   "cell_type": "markdown",
   "metadata": {},
   "source": [
    "Compute Power Spectrum (Absolute Valued Squared Coefficents), with y axis being the frequency and x axis being time"
   ]
  },
  {
   "cell_type": "code",
   "execution_count": 5,
   "metadata": {},
   "outputs": [
    {
     "data": {
      "text/plain": [
       "<matplotlib.contour.QuadContourSet at 0x12825d8d518>"
      ]
     },
     "execution_count": 5,
     "metadata": {},
     "output_type": "execute_result"
    },
    {
     "data": {
      "image/png": "[encoded data removed]",
      "text/plain": [
       "<Figure size 432x288 with 1 Axes>"
      ]
     },
     "metadata": {},
     "output_type": "display_data"
    }
   ],
   "source": [
    "plt.xlabel('t')\n",
    "plt.ylabel('frequency')\n",
    "plt.ylim(0.0,40)\n",
    "plt.xlim(0,tend)\n",
    "plt.contourf(X,Y,ys)"
   ]
  }
 ],
 "metadata": {
  "kernelspec": {
   "display_name": "Python 3",
   "language": "python",
   "name": "python3"
  },
  "language_info": {
   "codemirror_mode": {
    "name": "ipython",
    "version": 3
   },
   "file_extension": ".py",
   "mimetype": "text/x-python",
   "name": "python",
   "nbconvert_exporter": "python",
   "pygments_lexer": "ipython3",
   "version": "3.6.4"
  }
 },
 "nbformat": 4,
 "nbformat_minor": 2
}

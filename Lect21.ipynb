{
 "cells": [
  {
   "cell_type": "markdown",
   "metadata": {},
   "source": [
    "# PHYS 404/604: Computational Techniques in Physics\n",
    "\n",
    "Spring 2018, Lecture 21\n",
    "\n",
    "Wednesday, April 18, 2:30pm&mdash;3:45pm\n",
    "\n",
    "Instructor: Chao-Chin Yang\n",
    "\n",
    "Office: BPB-241\n",
    "\n",
    "Email: [ccyang@unlv.edu](mailto:ccyang@unlv.edu)\n",
    "\n",
    "## Least Squares Fitting"
   ]
  },
  {
   "cell_type": "markdown",
   "metadata": {},
   "source": [
    "### Radioactive Decay\n",
    "\n",
    "As an example of how to conduct a straight-line fit, we consider some data from radioactive decay.\n",
    "From theoretical considerations, the expected number of decays that occur in a given time interval follows\n",
    "\\begin{equation}\n",
    "N = N_0 \\exp(-t / \\tau).\n",
    "\\end{equation}\n",
    "The experiment gives the following data."
   ]
  },
  {
   "cell_type": "code",
   "execution_count": 1,
   "metadata": {},
   "outputs": [],
   "source": [
    "import numpy as np\n",
    "\n",
    "# time points in microseconds\n",
    "t = np.array([10, 20, 30, 40, 50, 60, 80, 100])\n",
    "\n",
    "# number of observed decays per microsecond\n",
    "n = np.array([6331, 4069, 2592, 1580, 1018, 622, 235, 109])"
   ]
  },
  {
   "cell_type": "markdown",
   "metadata": {},
   "source": [
    "We want to use this data to estimate the lifetime for the radioactive source $\\tau$.\n",
    "To make the fitting more meaningful, we need to know the uncertainties $\\sigma_i$.\n",
    "*What should be those?*"
   ]
  },
  {
   "cell_type": "code",
   "execution_count": 2,
   "metadata": {},
   "outputs": [],
   "source": [
    "# COMPLETE ME: uncertainty at each measurement\n",
    "#dn = ?"
   ]
  },
  {
   "cell_type": "markdown",
   "metadata": {},
   "source": [
    "So, the data should look like this."
   ]
  },
  {
   "cell_type": "code",
   "execution_count": 3,
   "metadata": {},
   "outputs": [
    {
     "ename": "NameError",
     "evalue": "name 'dn' is not defined",
     "output_type": "error",
     "traceback": [
      "\u001b[0;31m---------------------------------------------------------------------------\u001b[0m",
      "\u001b[0;31mNameError\u001b[0m                                 Traceback (most recent call last)",
      "\u001b[0;32m<ipython-input-3-8bb6f7e67142>\u001b[0m in \u001b[0;36m<module>\u001b[0;34m()\u001b[0m\n\u001b[1;32m      6\u001b[0m \u001b[0;34m\u001b[0m\u001b[0m\n\u001b[1;32m      7\u001b[0m \u001b[0;31m# Plot the data along with the uncertainties.\u001b[0m\u001b[0;34m\u001b[0m\u001b[0;34m\u001b[0m\u001b[0m\n\u001b[0;32m----> 8\u001b[0;31m \u001b[0max\u001b[0m\u001b[0;34m.\u001b[0m\u001b[0merrorbar\u001b[0m\u001b[0;34m(\u001b[0m\u001b[0mt\u001b[0m\u001b[0;34m,\u001b[0m \u001b[0mn\u001b[0m\u001b[0;34m,\u001b[0m \u001b[0myerr\u001b[0m\u001b[0;34m=\u001b[0m\u001b[0mdn\u001b[0m\u001b[0;34m,\u001b[0m \u001b[0mfmt\u001b[0m\u001b[0;34m=\u001b[0m\u001b[0;34m'o'\u001b[0m\u001b[0;34m,\u001b[0m \u001b[0mcapsize\u001b[0m\u001b[0;34m=\u001b[0m\u001b[0;36m4\u001b[0m\u001b[0;34m)\u001b[0m\u001b[0;34m\u001b[0m\u001b[0m\n\u001b[0m\u001b[1;32m      9\u001b[0m \u001b[0;34m\u001b[0m\u001b[0m\n\u001b[1;32m     10\u001b[0m \u001b[0;31m# Fine tune the plot.\u001b[0m\u001b[0;34m\u001b[0m\u001b[0;34m\u001b[0m\u001b[0m\n",
      "\u001b[0;31mNameError\u001b[0m: name 'dn' is not defined"
     ]
    }
   ],
   "source": [
    "import matplotlib.pyplot as plt\n",
    "\n",
    "# Initiate the plot\n",
    "fig = plt.figure(figsize=(8,6))\n",
    "ax = fig.gca()\n",
    "\n",
    "# Plot the data along with the uncertainties.\n",
    "ax.errorbar(t, n, yerr=dn, fmt='o', capsize=4)\n",
    "\n",
    "# Fine tune the plot.\n",
    "ax.grid()\n",
    "ax.minorticks_on()\n",
    "ax.set_xlabel(r\"$t$ [$\\mu$s]\")\n",
    "ax.set_ylabel(r\"$N(t)$ [$\\mu$s$^{-1}$]\")\n",
    "\n",
    "plt.show()"
   ]
  },
  {
   "cell_type": "markdown",
   "metadata": {},
   "source": [
    "Now, to cast the problem into a straight-line fitting, we work in the logarithmic space:\n",
    "\n",
    "\\begin{equation}\n",
    "\\ln N = \\ln N_0 - \\frac{t}{\\tau}.\n",
    "\\end{equation}\n",
    "\n",
    "So for a straight line $y = a + b x$, we identify $y \\equiv \\ln N$, $x \\equiv t$, $a \\equiv \\ln N_0$, and $b \\equiv -1 / \\tau$. "
   ]
  },
  {
   "cell_type": "code",
   "execution_count": null,
   "metadata": {},
   "outputs": [],
   "source": [
    "xi = t\n",
    "yi = np.log(n)"
   ]
  },
  {
   "cell_type": "markdown",
   "metadata": {},
   "source": [
    "*How about the uncentainties??*"
   ]
  },
  {
   "cell_type": "code",
   "execution_count": null,
   "metadata": {},
   "outputs": [],
   "source": [
    "# COMPLETE ME: set the uncertainties for yi.\n",
    "#sigma = ?"
   ]
  },
  {
   "cell_type": "markdown",
   "metadata": {},
   "source": [
    "Here is the function to find the intercept $a$ and the slope $b$:"
   ]
  },
  {
   "cell_type": "code",
   "execution_count": null,
   "metadata": {},
   "outputs": [],
   "source": [
    "def line_fit(xi, yi, sigma):\n",
    "    s2 = 1 / sigma**2\n",
    "    w1 = np.sum(s2)\n",
    "    wx = np.sum(xi * s2)\n",
    "    wy = np.sum(yi * s2)\n",
    "    wxy = np.sum(xi * yi * s2)\n",
    "    wx2 = np.sum(xi * xi * s2)\n",
    "    norm = w1 * wx2 - wx * wx\n",
    "    a = (wx2 * wy - wx * wxy) / norm\n",
    "    b = (w1 * wxy - wx * wy) / norm\n",
    "    return a, b"
   ]
  },
  {
   "cell_type": "markdown",
   "metadata": {},
   "source": [
    "We can now find the best fitting parameters:"
   ]
  },
  {
   "cell_type": "code",
   "execution_count": null,
   "metadata": {
    "scrolled": true
   },
   "outputs": [],
   "source": [
    "a, b = line_fit(xi, yi, sigma)\n",
    "\n",
    "print(\"a = \", a)\n",
    "print(\"b = \", b)"
   ]
  },
  {
   "cell_type": "markdown",
   "metadata": {},
   "source": [
    "which translates to"
   ]
  },
  {
   "cell_type": "code",
   "execution_count": null,
   "metadata": {},
   "outputs": [],
   "source": [
    "import math\n",
    "\n",
    "n0, tau = math.exp(a), -1 / b\n",
    "\n",
    "print(\"N0 = \", n0)\n",
    "print(\"tau = \", tau)"
   ]
  },
  {
   "cell_type": "markdown",
   "metadata": {},
   "source": [
    "Make a habit to *always* check if your results make sense by plotting the fit on top of the data:"
   ]
  },
  {
   "cell_type": "code",
   "execution_count": null,
   "metadata": {},
   "outputs": [],
   "source": [
    "# Initiate the plot\n",
    "fig = plt.figure(figsize=(8,6))\n",
    "ax = fig.gca()\n",
    "\n",
    "# Plot the data along with the uncertainties.\n",
    "ax.errorbar(t, n, yerr=dn, fmt='o', capsize=4, label=\"data\")\n",
    "\n",
    "# Overplot the fit.\n",
    "tf = np.linspace(0, 100, 201)\n",
    "nf = n0 * np.exp(-tf / tau)\n",
    "ax.plot(tf, nf, label=\"fit\")\n",
    "\n",
    "# Fine tune the plot.\n",
    "ax.grid()\n",
    "ax.minorticks_on()\n",
    "ax.set_xlabel(r\"$t$ [$\\mu$s]\")\n",
    "ax.set_ylabel(r\"$N(t)$ [$\\mu$s$^{-1}$]\")\n",
    "ax.legend()\n",
    "\n",
    "plt.show()"
   ]
  },
  {
   "cell_type": "markdown",
   "metadata": {},
   "source": [
    "Finally, *how good is the fit?* To see this, we need to calculate $S_{\\min}$."
   ]
  },
  {
   "cell_type": "code",
   "execution_count": null,
   "metadata": {
    "scrolled": true
   },
   "outputs": [],
   "source": [
    "smin = np.sum(((a + b * xi - yi) / sigma)**2)\n",
    "print(\"S_min = \", smin)"
   ]
  },
  {
   "cell_type": "markdown",
   "metadata": {},
   "source": [
    "Is the fit good?"
   ]
  },
  {
   "cell_type": "markdown",
   "metadata": {},
   "source": [
    "**Further reading:** Lyons, L. 1991, *A Practical Guide to Data Analysis for Physical Science Students* (Cambridge, U.K.: Cambridge Univ. Press)"
   ]
  },
  {
   "cell_type": "markdown",
   "metadata": {},
   "source": [
    "### Hubble's Law\n",
    "\n",
    "Edwin Hubble's seminal *six-page* [paper](https://doi.org/10.1073/pnas.15.3.168) in 1929 established that the universe is expanding.  He \"found\" a linear relationship between the radial velocity $v_r$ (in km/s) and the distance $r$ (in $10^6$ parsecs) of distant objects.  Now, try to trace his footsteps and judge if his *hypothesis* would make sense. This is also a chance for you to find your own *Hubble constant* $H_0$ (in km/s/Mpc)."
   ]
  },
  {
   "cell_type": "code",
   "execution_count": null,
   "metadata": {},
   "outputs": [],
   "source": [
    "# Hubble's data:\n",
    "r = [0.032, 0.034, 0.214, 0.263, 0.275, 0.275, 0.45, 0.5, 0.5, 0.63,\n",
    "     0.8, 0.9, 0.9, 0.9, 0.9, 1.0, 1.1, 1.1, 1.4, 1.7, 2.0, 2.0,\n",
    "     2.0, 2.0]\n",
    "vr = [170, 290, -130, -70, -185, -220, 200, 290, 270, 200, 300, -30,\n",
    "      650, 150, 500, 920, 450, 500, 500, 960, 500, 850, 800, 1090]\n",
    "r = np.array(r)\n",
    "vr = np.array(vr)\n",
    "\n",
    "# COMPLETE ME: Find the Hubble constant.\n",
    "#h0 = ?\n",
    "#print(\"h0 = \", h0)\n",
    "\n",
    "# Initiate the plot\n",
    "fig = plt.figure(figsize=(8,6))\n",
    "ax = fig.gca()\n",
    "\n",
    "# Plot the data.\n",
    "ax.plot(r, vr, 'o', label=\"Hubble's data\")\n",
    "\n",
    "# COMPLETEME: Plot the fit.\n",
    "rf = np.linspace(0, 2.25, 226)\n",
    "#vrf = ?\n",
    "ax.plot(rf, vrf, '--', label=\"Hubble's law\")\n",
    "\n",
    "# Fine tune the plot.\n",
    "ax.grid()\n",
    "ax.minorticks_on()\n",
    "ax.set_xlabel(r\"Distance $r$ [Mpc]\")\n",
    "ax.set_ylabel(r\"Radial Velocity $v_r$ [km/s]\")\n",
    "ax.legend()\n",
    "\n",
    "plt.show()"
   ]
  }
 ],
 "metadata": {
  "kernelspec": {
   "display_name": "Python 3",
   "language": "python",
   "name": "python3"
  },
  "language_info": {
   "codemirror_mode": {
    "name": "ipython",
    "version": 3
   },
   "file_extension": ".py",
   "mimetype": "text/x-python",
   "name": "python",
   "nbconvert_exporter": "python",
   "pygments_lexer": "ipython3",
   "version": "3.6.4"
  }
 },
 "nbformat": 4,
 "nbformat_minor": 2
}
